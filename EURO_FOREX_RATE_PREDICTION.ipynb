{
  "nbformat": 4,
  "nbformat_minor": 0,
  "metadata": {
    "colab": {
      "name": "EURO_FOREX_RATE_PREDICTION.ipynb",
      "provenance": [],
      "collapsed_sections": []
    },
    "kernelspec": {
      "name": "python3",
      "display_name": "Python 3"
    },
    "language_info": {
      "name": "python"
    }
  },
  "cells": [
    {
      "cell_type": "code",
      "execution_count": null,
      "metadata": {
        "id": "HsZV8CVCy125"
      },
      "outputs": [],
      "source": [
        "#PREDICT EURO Value againtes other foriegn currency exhange rates\n"
      ]
    },
    {
      "cell_type": "code",
      "source": [
        "from google.colab import drive\n",
        "drive.mount('/content/drive')"
      ],
      "metadata": {
        "id": "75dxKbUkz7yo",
        "outputId": "3af52fe9-1860-4425-d1ba-1de948d498b0",
        "colab": {
          "base_uri": "https://localhost:8080/"
        }
      },
      "execution_count": 2,
      "outputs": [
        {
          "output_type": "stream",
          "name": "stdout",
          "text": [
            "Drive already mounted at /content/drive; to attempt to forcibly remount, call drive.mount(\"/content/drive\", force_remount=True).\n"
          ]
        }
      ]
    },
    {
      "cell_type": "code",
      "source": [
        "#import required libraries\n",
        "import numpy as np\n",
        "import pandas as pd\n",
        "\n",
        "import missingno as msno\n",
        "from sklearn.model_selection import train_test_split\n",
        "from sklearn.ensemble import RandomForestRegressor\n",
        "from sklearn import metrics\n",
        "\n",
        "#plotting libraries\n",
        "import matplotlib.pyplot as plt\n",
        "import seaborn as sns"
      ],
      "metadata": {
        "id": "hBpA4nTiWaNs"
      },
      "execution_count": 3,
      "outputs": []
    },
    {
      "cell_type": "code",
      "source": [
        "#import data set\n",
        "forex_data = pd.read_csv('/content/drive/MyDrive/ECB_FX_USD-quote.csv')\n",
        "forex_data.head()"
      ],
      "metadata": {
        "colab": {
          "base_uri": "https://localhost:8080/",
          "height": 369
        },
        "id": "u3xbv5q7XeNr",
        "outputId": "2f2ec71f-2e56-402e-fb27-9f0408ade3df"
      },
      "execution_count": 4,
      "outputs": [
        {
          "output_type": "execute_result",
          "data": {
            "text/plain": [
              "         Date         EUR                   JPY                 BGN  \\\n",
              "0       #date  #value+eur            #value+jpy          #value+bgn   \n",
              "1  2022-05-20      1.0577  0.007815132259494607  0.5408017179670723   \n",
              "2  2022-05-19      1.0525  0.007827606723189051  0.5381429594028019   \n",
              "3  2022-05-18      1.0523  0.007751178550383029  0.5380406994580224   \n",
              "4  2022-05-17      1.0541  0.007732541079812207   0.538961038961039   \n",
              "\n",
              "                    CZK                  DKK                 GBP  \\\n",
              "0            #value+czk           #value+dkk          #value+gbp   \n",
              "1   0.04287393595460073   0.1421181339352897  1.2469936335769867   \n",
              "2   0.04261133603238867  0.14142133480241323  1.2422103672929845   \n",
              "3    0.0426948513003611  0.14140206130154934  1.2428250856265501   \n",
              "4  0.042655390093881515  0.14165345230736154  1.2489336492890997   \n",
              "\n",
              "                     HUF                  PLN                  RON  ...  \\\n",
              "0             #value+huf           #value+pln           #value+ron  ...   \n",
              "1    0.00276212362572794  0.22812466300010786   0.2137760979849223  ...   \n",
              "2   0.002727885338102273   0.2267195140339918  0.21273800379997573  ...   \n",
              "3   0.002748380693689929   0.2265788170445492   0.2127018777919269  ...   \n",
              "4  0.0027287082578307015  0.22674668731715714  0.21304418125227376  ...   \n",
              "\n",
              "                   ILS                   INR                    KRW  \\\n",
              "0           #value+ils            #value+inr             #value+krw   \n",
              "1    0.299377299745259  0.012873394781266699  0.0007889868564352744   \n",
              "2   0.2954551834488954  0.012880683869467578  0.0007835707000394576   \n",
              "3  0.29844015882019287  0.012888646649233577  0.0007895645127404784   \n",
              "4  0.29787775171673214  0.012909744462747164  0.0007903813565676409   \n",
              "\n",
              "                   MXN                  MYR                 NZD  \\\n",
              "0           #value+mxn           #value+myr          #value+nzd   \n",
              "1  0.05029146894643248  0.22784455646029902  0.6403317592928927   \n",
              "2  0.05010878724832534  0.22701291978517352  0.6359132378708235   \n",
              "3  0.05030018546490507  0.22750464824663813  0.6359076625574087   \n",
              "4  0.05013006900553091  0.22810586224059207   0.636495380713725   \n",
              "\n",
              "                    PHP                 SGD                   THB  \\\n",
              "0            #value+php          #value+sgd            #value+thb   \n",
              "1   0.01916782950653305  0.7250479846449136  0.029150589791643703   \n",
              "2   0.01908777656873413  0.7220773874862788  0.028960184904933548   \n",
              "3  0.019105978902264103  0.7208521715303466  0.028910134893815765   \n",
              "4  0.019117833759544407  0.7225306737953252   0.02898985176425291   \n",
              "\n",
              "                   ZAR  \n",
              "0           #value+zar  \n",
              "1  0.06328568607858506  \n",
              "2  0.06253156284347801  \n",
              "3  0.06289409669302445  \n",
              "4  0.06258014723343623  \n",
              "\n",
              "[5 rows x 34 columns]"
            ],
            "text/html": [
              "\n",
              "  <div id=\"df-42004a94-3c5f-44fc-8371-48a56a64d986\">\n",
              "    <div class=\"colab-df-container\">\n",
              "      <div>\n",
              "<style scoped>\n",
              "    .dataframe tbody tr th:only-of-type {\n",
              "        vertical-align: middle;\n",
              "    }\n",
              "\n",
              "    .dataframe tbody tr th {\n",
              "        vertical-align: top;\n",
              "    }\n",
              "\n",
              "    .dataframe thead th {\n",
              "        text-align: right;\n",
              "    }\n",
              "</style>\n",
              "<table border=\"1\" class=\"dataframe\">\n",
              "  <thead>\n",
              "    <tr style=\"text-align: right;\">\n",
              "      <th></th>\n",
              "      <th>Date</th>\n",
              "      <th>EUR</th>\n",
              "      <th>JPY</th>\n",
              "      <th>BGN</th>\n",
              "      <th>CZK</th>\n",
              "      <th>DKK</th>\n",
              "      <th>GBP</th>\n",
              "      <th>HUF</th>\n",
              "      <th>PLN</th>\n",
              "      <th>RON</th>\n",
              "      <th>...</th>\n",
              "      <th>ILS</th>\n",
              "      <th>INR</th>\n",
              "      <th>KRW</th>\n",
              "      <th>MXN</th>\n",
              "      <th>MYR</th>\n",
              "      <th>NZD</th>\n",
              "      <th>PHP</th>\n",
              "      <th>SGD</th>\n",
              "      <th>THB</th>\n",
              "      <th>ZAR</th>\n",
              "    </tr>\n",
              "  </thead>\n",
              "  <tbody>\n",
              "    <tr>\n",
              "      <th>0</th>\n",
              "      <td>#date</td>\n",
              "      <td>#value+eur</td>\n",
              "      <td>#value+jpy</td>\n",
              "      <td>#value+bgn</td>\n",
              "      <td>#value+czk</td>\n",
              "      <td>#value+dkk</td>\n",
              "      <td>#value+gbp</td>\n",
              "      <td>#value+huf</td>\n",
              "      <td>#value+pln</td>\n",
              "      <td>#value+ron</td>\n",
              "      <td>...</td>\n",
              "      <td>#value+ils</td>\n",
              "      <td>#value+inr</td>\n",
              "      <td>#value+krw</td>\n",
              "      <td>#value+mxn</td>\n",
              "      <td>#value+myr</td>\n",
              "      <td>#value+nzd</td>\n",
              "      <td>#value+php</td>\n",
              "      <td>#value+sgd</td>\n",
              "      <td>#value+thb</td>\n",
              "      <td>#value+zar</td>\n",
              "    </tr>\n",
              "    <tr>\n",
              "      <th>1</th>\n",
              "      <td>2022-05-20</td>\n",
              "      <td>1.0577</td>\n",
              "      <td>0.007815132259494607</td>\n",
              "      <td>0.5408017179670723</td>\n",
              "      <td>0.04287393595460073</td>\n",
              "      <td>0.1421181339352897</td>\n",
              "      <td>1.2469936335769867</td>\n",
              "      <td>0.00276212362572794</td>\n",
              "      <td>0.22812466300010786</td>\n",
              "      <td>0.2137760979849223</td>\n",
              "      <td>...</td>\n",
              "      <td>0.299377299745259</td>\n",
              "      <td>0.012873394781266699</td>\n",
              "      <td>0.0007889868564352744</td>\n",
              "      <td>0.05029146894643248</td>\n",
              "      <td>0.22784455646029902</td>\n",
              "      <td>0.6403317592928927</td>\n",
              "      <td>0.01916782950653305</td>\n",
              "      <td>0.7250479846449136</td>\n",
              "      <td>0.029150589791643703</td>\n",
              "      <td>0.06328568607858506</td>\n",
              "    </tr>\n",
              "    <tr>\n",
              "      <th>2</th>\n",
              "      <td>2022-05-19</td>\n",
              "      <td>1.0525</td>\n",
              "      <td>0.007827606723189051</td>\n",
              "      <td>0.5381429594028019</td>\n",
              "      <td>0.04261133603238867</td>\n",
              "      <td>0.14142133480241323</td>\n",
              "      <td>1.2422103672929845</td>\n",
              "      <td>0.002727885338102273</td>\n",
              "      <td>0.2267195140339918</td>\n",
              "      <td>0.21273800379997573</td>\n",
              "      <td>...</td>\n",
              "      <td>0.2954551834488954</td>\n",
              "      <td>0.012880683869467578</td>\n",
              "      <td>0.0007835707000394576</td>\n",
              "      <td>0.05010878724832534</td>\n",
              "      <td>0.22701291978517352</td>\n",
              "      <td>0.6359132378708235</td>\n",
              "      <td>0.01908777656873413</td>\n",
              "      <td>0.7220773874862788</td>\n",
              "      <td>0.028960184904933548</td>\n",
              "      <td>0.06253156284347801</td>\n",
              "    </tr>\n",
              "    <tr>\n",
              "      <th>3</th>\n",
              "      <td>2022-05-18</td>\n",
              "      <td>1.0523</td>\n",
              "      <td>0.007751178550383029</td>\n",
              "      <td>0.5380406994580224</td>\n",
              "      <td>0.0426948513003611</td>\n",
              "      <td>0.14140206130154934</td>\n",
              "      <td>1.2428250856265501</td>\n",
              "      <td>0.002748380693689929</td>\n",
              "      <td>0.2265788170445492</td>\n",
              "      <td>0.2127018777919269</td>\n",
              "      <td>...</td>\n",
              "      <td>0.29844015882019287</td>\n",
              "      <td>0.012888646649233577</td>\n",
              "      <td>0.0007895645127404784</td>\n",
              "      <td>0.05030018546490507</td>\n",
              "      <td>0.22750464824663813</td>\n",
              "      <td>0.6359076625574087</td>\n",
              "      <td>0.019105978902264103</td>\n",
              "      <td>0.7208521715303466</td>\n",
              "      <td>0.028910134893815765</td>\n",
              "      <td>0.06289409669302445</td>\n",
              "    </tr>\n",
              "    <tr>\n",
              "      <th>4</th>\n",
              "      <td>2022-05-17</td>\n",
              "      <td>1.0541</td>\n",
              "      <td>0.007732541079812207</td>\n",
              "      <td>0.538961038961039</td>\n",
              "      <td>0.042655390093881515</td>\n",
              "      <td>0.14165345230736154</td>\n",
              "      <td>1.2489336492890997</td>\n",
              "      <td>0.0027287082578307015</td>\n",
              "      <td>0.22674668731715714</td>\n",
              "      <td>0.21304418125227376</td>\n",
              "      <td>...</td>\n",
              "      <td>0.29787775171673214</td>\n",
              "      <td>0.012909744462747164</td>\n",
              "      <td>0.0007903813565676409</td>\n",
              "      <td>0.05013006900553091</td>\n",
              "      <td>0.22810586224059207</td>\n",
              "      <td>0.636495380713725</td>\n",
              "      <td>0.019117833759544407</td>\n",
              "      <td>0.7225306737953252</td>\n",
              "      <td>0.02898985176425291</td>\n",
              "      <td>0.06258014723343623</td>\n",
              "    </tr>\n",
              "  </tbody>\n",
              "</table>\n",
              "<p>5 rows × 34 columns</p>\n",
              "</div>\n",
              "      <button class=\"colab-df-convert\" onclick=\"convertToInteractive('df-42004a94-3c5f-44fc-8371-48a56a64d986')\"\n",
              "              title=\"Convert this dataframe to an interactive table.\"\n",
              "              style=\"display:none;\">\n",
              "        \n",
              "  <svg xmlns=\"http://www.w3.org/2000/svg\" height=\"24px\"viewBox=\"0 0 24 24\"\n",
              "       width=\"24px\">\n",
              "    <path d=\"M0 0h24v24H0V0z\" fill=\"none\"/>\n",
              "    <path d=\"M18.56 5.44l.94 2.06.94-2.06 2.06-.94-2.06-.94-.94-2.06-.94 2.06-2.06.94zm-11 1L8.5 8.5l.94-2.06 2.06-.94-2.06-.94L8.5 2.5l-.94 2.06-2.06.94zm10 10l.94 2.06.94-2.06 2.06-.94-2.06-.94-.94-2.06-.94 2.06-2.06.94z\"/><path d=\"M17.41 7.96l-1.37-1.37c-.4-.4-.92-.59-1.43-.59-.52 0-1.04.2-1.43.59L10.3 9.45l-7.72 7.72c-.78.78-.78 2.05 0 2.83L4 21.41c.39.39.9.59 1.41.59.51 0 1.02-.2 1.41-.59l7.78-7.78 2.81-2.81c.8-.78.8-2.07 0-2.86zM5.41 20L4 18.59l7.72-7.72 1.47 1.35L5.41 20z\"/>\n",
              "  </svg>\n",
              "      </button>\n",
              "      \n",
              "  <style>\n",
              "    .colab-df-container {\n",
              "      display:flex;\n",
              "      flex-wrap:wrap;\n",
              "      gap: 12px;\n",
              "    }\n",
              "\n",
              "    .colab-df-convert {\n",
              "      background-color: #E8F0FE;\n",
              "      border: none;\n",
              "      border-radius: 50%;\n",
              "      cursor: pointer;\n",
              "      display: none;\n",
              "      fill: #1967D2;\n",
              "      height: 32px;\n",
              "      padding: 0 0 0 0;\n",
              "      width: 32px;\n",
              "    }\n",
              "\n",
              "    .colab-df-convert:hover {\n",
              "      background-color: #E2EBFA;\n",
              "      box-shadow: 0px 1px 2px rgba(60, 64, 67, 0.3), 0px 1px 3px 1px rgba(60, 64, 67, 0.15);\n",
              "      fill: #174EA6;\n",
              "    }\n",
              "\n",
              "    [theme=dark] .colab-df-convert {\n",
              "      background-color: #3B4455;\n",
              "      fill: #D2E3FC;\n",
              "    }\n",
              "\n",
              "    [theme=dark] .colab-df-convert:hover {\n",
              "      background-color: #434B5C;\n",
              "      box-shadow: 0px 1px 3px 1px rgba(0, 0, 0, 0.15);\n",
              "      filter: drop-shadow(0px 1px 2px rgba(0, 0, 0, 0.3));\n",
              "      fill: #FFFFFF;\n",
              "    }\n",
              "  </style>\n",
              "\n",
              "      <script>\n",
              "        const buttonEl =\n",
              "          document.querySelector('#df-42004a94-3c5f-44fc-8371-48a56a64d986 button.colab-df-convert');\n",
              "        buttonEl.style.display =\n",
              "          google.colab.kernel.accessAllowed ? 'block' : 'none';\n",
              "\n",
              "        async function convertToInteractive(key) {\n",
              "          const element = document.querySelector('#df-42004a94-3c5f-44fc-8371-48a56a64d986');\n",
              "          const dataTable =\n",
              "            await google.colab.kernel.invokeFunction('convertToInteractive',\n",
              "                                                     [key], {});\n",
              "          if (!dataTable) return;\n",
              "\n",
              "          const docLinkHtml = 'Like what you see? Visit the ' +\n",
              "            '<a target=\"_blank\" href=https://colab.research.google.com/notebooks/data_table.ipynb>data table notebook</a>'\n",
              "            + ' to learn more about interactive tables.';\n",
              "          element.innerHTML = '';\n",
              "          dataTable['output_type'] = 'display_data';\n",
              "          await google.colab.output.renderOutput(dataTable, element);\n",
              "          const docLink = document.createElement('div');\n",
              "          docLink.innerHTML = docLinkHtml;\n",
              "          element.appendChild(docLink);\n",
              "        }\n",
              "      </script>\n",
              "    </div>\n",
              "  </div>\n",
              "  "
            ]
          },
          "metadata": {},
          "execution_count": 4
        }
      ]
    },
    {
      "cell_type": "code",
      "source": [
        "#Remove First Row\n",
        "forex_data =  forex_data.drop(0)\n"
      ],
      "metadata": {
        "id": "Y4yjjE_NZu74"
      },
      "execution_count": 5,
      "outputs": []
    },
    {
      "cell_type": "code",
      "source": [
        "forex_data.head()"
      ],
      "metadata": {
        "colab": {
          "base_uri": "https://localhost:8080/",
          "height": 386
        },
        "id": "1degtvKYaExy",
        "outputId": "be934b3a-8937-44af-bf02-5779631cdecb"
      },
      "execution_count": 6,
      "outputs": [
        {
          "output_type": "execute_result",
          "data": {
            "text/plain": [
              "         Date     EUR                   JPY                 BGN  \\\n",
              "1  2022-05-20  1.0577  0.007815132259494607  0.5408017179670723   \n",
              "2  2022-05-19  1.0525  0.007827606723189051  0.5381429594028019   \n",
              "3  2022-05-18  1.0523  0.007751178550383029  0.5380406994580224   \n",
              "4  2022-05-17  1.0541  0.007732541079812207   0.538961038961039   \n",
              "5  2022-05-16  1.0422  0.007719428190504408   0.532876572246651   \n",
              "\n",
              "                    CZK                  DKK                 GBP  \\\n",
              "1   0.04287393595460073   0.1421181339352897  1.2469936335769867   \n",
              "2   0.04261133603238867  0.14142133480241323  1.2422103672929845   \n",
              "3    0.0426948513003611  0.14140206130154934  1.2428250856265501   \n",
              "4  0.042655390093881515  0.14165345230736154  1.2489336492890997   \n",
              "5  0.042177256171590446   0.1400467628799484  1.2254688694220706   \n",
              "\n",
              "                     HUF                  PLN                  RON  ...  \\\n",
              "1    0.00276212362572794  0.22812466300010786   0.2137760979849223  ...   \n",
              "2   0.002727885338102273   0.2267195140339918  0.21273800379997573  ...   \n",
              "3   0.002748380693689929   0.2265788170445492   0.2127018777919269  ...   \n",
              "4  0.0027287082578307015  0.22674668731715714  0.21304418125227376  ...   \n",
              "5  0.0027010496306854996  0.22328869844670593   0.2106773939234672  ...   \n",
              "\n",
              "                   ILS                   INR                    KRW  \\\n",
              "1    0.299377299745259  0.012873394781266699  0.0007889868564352744   \n",
              "2   0.2954551834488954  0.012880683869467578  0.0007835707000394576   \n",
              "3  0.29844015882019287  0.012888646649233577  0.0007895645127404784   \n",
              "4  0.29787775171673214  0.012909744462747164  0.0007903813565676409   \n",
              "5   0.2937926368607994  0.012853812853812853  0.0007789819866955677   \n",
              "\n",
              "                   MXN                  MYR                 NZD  \\\n",
              "1  0.05029146894643248  0.22784455646029902  0.6403317592928927   \n",
              "2  0.05010878724832534  0.22701291978517352  0.6359132378708235   \n",
              "3  0.05030018546490507  0.22750464824663813  0.6359076625574087   \n",
              "4  0.05013006900553091  0.22810586224059207   0.636495380713725   \n",
              "5  0.04978884408858993  0.22737586176804261  0.6277935064152762   \n",
              "\n",
              "                    PHP                 SGD                   THB  \\\n",
              "1   0.01916782950653305  0.7250479846449136  0.029150589791643703   \n",
              "2   0.01908777656873413  0.7220773874862788  0.028960184904933548   \n",
              "3  0.019105978902264103  0.7208521715303466  0.028910134893815765   \n",
              "4  0.019117833759544407  0.7225306737953252   0.02898985176425291   \n",
              "5  0.019051275020564848  0.7172252425848187  0.028731322710481337   \n",
              "\n",
              "                   ZAR  \n",
              "1  0.06328568607858506  \n",
              "2  0.06253156284347801  \n",
              "3  0.06289409669302445  \n",
              "4  0.06258014723343623  \n",
              "5  0.06159756493986229  \n",
              "\n",
              "[5 rows x 34 columns]"
            ],
            "text/html": [
              "\n",
              "  <div id=\"df-9bf2b99a-8d10-444d-946e-f6f6b421e351\">\n",
              "    <div class=\"colab-df-container\">\n",
              "      <div>\n",
              "<style scoped>\n",
              "    .dataframe tbody tr th:only-of-type {\n",
              "        vertical-align: middle;\n",
              "    }\n",
              "\n",
              "    .dataframe tbody tr th {\n",
              "        vertical-align: top;\n",
              "    }\n",
              "\n",
              "    .dataframe thead th {\n",
              "        text-align: right;\n",
              "    }\n",
              "</style>\n",
              "<table border=\"1\" class=\"dataframe\">\n",
              "  <thead>\n",
              "    <tr style=\"text-align: right;\">\n",
              "      <th></th>\n",
              "      <th>Date</th>\n",
              "      <th>EUR</th>\n",
              "      <th>JPY</th>\n",
              "      <th>BGN</th>\n",
              "      <th>CZK</th>\n",
              "      <th>DKK</th>\n",
              "      <th>GBP</th>\n",
              "      <th>HUF</th>\n",
              "      <th>PLN</th>\n",
              "      <th>RON</th>\n",
              "      <th>...</th>\n",
              "      <th>ILS</th>\n",
              "      <th>INR</th>\n",
              "      <th>KRW</th>\n",
              "      <th>MXN</th>\n",
              "      <th>MYR</th>\n",
              "      <th>NZD</th>\n",
              "      <th>PHP</th>\n",
              "      <th>SGD</th>\n",
              "      <th>THB</th>\n",
              "      <th>ZAR</th>\n",
              "    </tr>\n",
              "  </thead>\n",
              "  <tbody>\n",
              "    <tr>\n",
              "      <th>1</th>\n",
              "      <td>2022-05-20</td>\n",
              "      <td>1.0577</td>\n",
              "      <td>0.007815132259494607</td>\n",
              "      <td>0.5408017179670723</td>\n",
              "      <td>0.04287393595460073</td>\n",
              "      <td>0.1421181339352897</td>\n",
              "      <td>1.2469936335769867</td>\n",
              "      <td>0.00276212362572794</td>\n",
              "      <td>0.22812466300010786</td>\n",
              "      <td>0.2137760979849223</td>\n",
              "      <td>...</td>\n",
              "      <td>0.299377299745259</td>\n",
              "      <td>0.012873394781266699</td>\n",
              "      <td>0.0007889868564352744</td>\n",
              "      <td>0.05029146894643248</td>\n",
              "      <td>0.22784455646029902</td>\n",
              "      <td>0.6403317592928927</td>\n",
              "      <td>0.01916782950653305</td>\n",
              "      <td>0.7250479846449136</td>\n",
              "      <td>0.029150589791643703</td>\n",
              "      <td>0.06328568607858506</td>\n",
              "    </tr>\n",
              "    <tr>\n",
              "      <th>2</th>\n",
              "      <td>2022-05-19</td>\n",
              "      <td>1.0525</td>\n",
              "      <td>0.007827606723189051</td>\n",
              "      <td>0.5381429594028019</td>\n",
              "      <td>0.04261133603238867</td>\n",
              "      <td>0.14142133480241323</td>\n",
              "      <td>1.2422103672929845</td>\n",
              "      <td>0.002727885338102273</td>\n",
              "      <td>0.2267195140339918</td>\n",
              "      <td>0.21273800379997573</td>\n",
              "      <td>...</td>\n",
              "      <td>0.2954551834488954</td>\n",
              "      <td>0.012880683869467578</td>\n",
              "      <td>0.0007835707000394576</td>\n",
              "      <td>0.05010878724832534</td>\n",
              "      <td>0.22701291978517352</td>\n",
              "      <td>0.6359132378708235</td>\n",
              "      <td>0.01908777656873413</td>\n",
              "      <td>0.7220773874862788</td>\n",
              "      <td>0.028960184904933548</td>\n",
              "      <td>0.06253156284347801</td>\n",
              "    </tr>\n",
              "    <tr>\n",
              "      <th>3</th>\n",
              "      <td>2022-05-18</td>\n",
              "      <td>1.0523</td>\n",
              "      <td>0.007751178550383029</td>\n",
              "      <td>0.5380406994580224</td>\n",
              "      <td>0.0426948513003611</td>\n",
              "      <td>0.14140206130154934</td>\n",
              "      <td>1.2428250856265501</td>\n",
              "      <td>0.002748380693689929</td>\n",
              "      <td>0.2265788170445492</td>\n",
              "      <td>0.2127018777919269</td>\n",
              "      <td>...</td>\n",
              "      <td>0.29844015882019287</td>\n",
              "      <td>0.012888646649233577</td>\n",
              "      <td>0.0007895645127404784</td>\n",
              "      <td>0.05030018546490507</td>\n",
              "      <td>0.22750464824663813</td>\n",
              "      <td>0.6359076625574087</td>\n",
              "      <td>0.019105978902264103</td>\n",
              "      <td>0.7208521715303466</td>\n",
              "      <td>0.028910134893815765</td>\n",
              "      <td>0.06289409669302445</td>\n",
              "    </tr>\n",
              "    <tr>\n",
              "      <th>4</th>\n",
              "      <td>2022-05-17</td>\n",
              "      <td>1.0541</td>\n",
              "      <td>0.007732541079812207</td>\n",
              "      <td>0.538961038961039</td>\n",
              "      <td>0.042655390093881515</td>\n",
              "      <td>0.14165345230736154</td>\n",
              "      <td>1.2489336492890997</td>\n",
              "      <td>0.0027287082578307015</td>\n",
              "      <td>0.22674668731715714</td>\n",
              "      <td>0.21304418125227376</td>\n",
              "      <td>...</td>\n",
              "      <td>0.29787775171673214</td>\n",
              "      <td>0.012909744462747164</td>\n",
              "      <td>0.0007903813565676409</td>\n",
              "      <td>0.05013006900553091</td>\n",
              "      <td>0.22810586224059207</td>\n",
              "      <td>0.636495380713725</td>\n",
              "      <td>0.019117833759544407</td>\n",
              "      <td>0.7225306737953252</td>\n",
              "      <td>0.02898985176425291</td>\n",
              "      <td>0.06258014723343623</td>\n",
              "    </tr>\n",
              "    <tr>\n",
              "      <th>5</th>\n",
              "      <td>2022-05-16</td>\n",
              "      <td>1.0422</td>\n",
              "      <td>0.007719428190504408</td>\n",
              "      <td>0.532876572246651</td>\n",
              "      <td>0.042177256171590446</td>\n",
              "      <td>0.1400467628799484</td>\n",
              "      <td>1.2254688694220706</td>\n",
              "      <td>0.0027010496306854996</td>\n",
              "      <td>0.22328869844670593</td>\n",
              "      <td>0.2106773939234672</td>\n",
              "      <td>...</td>\n",
              "      <td>0.2937926368607994</td>\n",
              "      <td>0.012853812853812853</td>\n",
              "      <td>0.0007789819866955677</td>\n",
              "      <td>0.04978884408858993</td>\n",
              "      <td>0.22737586176804261</td>\n",
              "      <td>0.6277935064152762</td>\n",
              "      <td>0.019051275020564848</td>\n",
              "      <td>0.7172252425848187</td>\n",
              "      <td>0.028731322710481337</td>\n",
              "      <td>0.06159756493986229</td>\n",
              "    </tr>\n",
              "  </tbody>\n",
              "</table>\n",
              "<p>5 rows × 34 columns</p>\n",
              "</div>\n",
              "      <button class=\"colab-df-convert\" onclick=\"convertToInteractive('df-9bf2b99a-8d10-444d-946e-f6f6b421e351')\"\n",
              "              title=\"Convert this dataframe to an interactive table.\"\n",
              "              style=\"display:none;\">\n",
              "        \n",
              "  <svg xmlns=\"http://www.w3.org/2000/svg\" height=\"24px\"viewBox=\"0 0 24 24\"\n",
              "       width=\"24px\">\n",
              "    <path d=\"M0 0h24v24H0V0z\" fill=\"none\"/>\n",
              "    <path d=\"M18.56 5.44l.94 2.06.94-2.06 2.06-.94-2.06-.94-.94-2.06-.94 2.06-2.06.94zm-11 1L8.5 8.5l.94-2.06 2.06-.94-2.06-.94L8.5 2.5l-.94 2.06-2.06.94zm10 10l.94 2.06.94-2.06 2.06-.94-2.06-.94-.94-2.06-.94 2.06-2.06.94z\"/><path d=\"M17.41 7.96l-1.37-1.37c-.4-.4-.92-.59-1.43-.59-.52 0-1.04.2-1.43.59L10.3 9.45l-7.72 7.72c-.78.78-.78 2.05 0 2.83L4 21.41c.39.39.9.59 1.41.59.51 0 1.02-.2 1.41-.59l7.78-7.78 2.81-2.81c.8-.78.8-2.07 0-2.86zM5.41 20L4 18.59l7.72-7.72 1.47 1.35L5.41 20z\"/>\n",
              "  </svg>\n",
              "      </button>\n",
              "      \n",
              "  <style>\n",
              "    .colab-df-container {\n",
              "      display:flex;\n",
              "      flex-wrap:wrap;\n",
              "      gap: 12px;\n",
              "    }\n",
              "\n",
              "    .colab-df-convert {\n",
              "      background-color: #E8F0FE;\n",
              "      border: none;\n",
              "      border-radius: 50%;\n",
              "      cursor: pointer;\n",
              "      display: none;\n",
              "      fill: #1967D2;\n",
              "      height: 32px;\n",
              "      padding: 0 0 0 0;\n",
              "      width: 32px;\n",
              "    }\n",
              "\n",
              "    .colab-df-convert:hover {\n",
              "      background-color: #E2EBFA;\n",
              "      box-shadow: 0px 1px 2px rgba(60, 64, 67, 0.3), 0px 1px 3px 1px rgba(60, 64, 67, 0.15);\n",
              "      fill: #174EA6;\n",
              "    }\n",
              "\n",
              "    [theme=dark] .colab-df-convert {\n",
              "      background-color: #3B4455;\n",
              "      fill: #D2E3FC;\n",
              "    }\n",
              "\n",
              "    [theme=dark] .colab-df-convert:hover {\n",
              "      background-color: #434B5C;\n",
              "      box-shadow: 0px 1px 3px 1px rgba(0, 0, 0, 0.15);\n",
              "      filter: drop-shadow(0px 1px 2px rgba(0, 0, 0, 0.3));\n",
              "      fill: #FFFFFF;\n",
              "    }\n",
              "  </style>\n",
              "\n",
              "      <script>\n",
              "        const buttonEl =\n",
              "          document.querySelector('#df-9bf2b99a-8d10-444d-946e-f6f6b421e351 button.colab-df-convert');\n",
              "        buttonEl.style.display =\n",
              "          google.colab.kernel.accessAllowed ? 'block' : 'none';\n",
              "\n",
              "        async function convertToInteractive(key) {\n",
              "          const element = document.querySelector('#df-9bf2b99a-8d10-444d-946e-f6f6b421e351');\n",
              "          const dataTable =\n",
              "            await google.colab.kernel.invokeFunction('convertToInteractive',\n",
              "                                                     [key], {});\n",
              "          if (!dataTable) return;\n",
              "\n",
              "          const docLinkHtml = 'Like what you see? Visit the ' +\n",
              "            '<a target=\"_blank\" href=https://colab.research.google.com/notebooks/data_table.ipynb>data table notebook</a>'\n",
              "            + ' to learn more about interactive tables.';\n",
              "          element.innerHTML = '';\n",
              "          dataTable['output_type'] = 'display_data';\n",
              "          await google.colab.output.renderOutput(dataTable, element);\n",
              "          const docLink = document.createElement('div');\n",
              "          docLink.innerHTML = docLinkHtml;\n",
              "          element.appendChild(docLink);\n",
              "        }\n",
              "      </script>\n",
              "    </div>\n",
              "  </div>\n",
              "  "
            ]
          },
          "metadata": {},
          "execution_count": 6
        }
      ]
    },
    {
      "cell_type": "code",
      "source": [
        "#Plot data to indentify missing values \n",
        "plt.figure(figsize=(12,8))\n",
        "sns.displot(data=forex_data.isna().melt(value_name=\"missing_Values\"), y=\"variable\",hue=\"missing_Values\",multiple=\"fill\",aspect=1.25)\n",
        "plt.savefig(\"visualizing_missing_data.png\", dpi=100)\n"
      ],
      "metadata": {
        "colab": {
          "base_uri": "https://localhost:8080/",
          "height": 386
        },
        "id": "svylmkmFaHek",
        "outputId": "1d1fb576-1241-4e9b-f5b0-ba790229a2ae"
      },
      "execution_count": 7,
      "outputs": [
        {
          "output_type": "display_data",
          "data": {
            "text/plain": [
              "<Figure size 864x576 with 0 Axes>"
            ]
          },
          "metadata": {}
        },
        {
          "output_type": "display_data",
          "data": {
            "text/plain": [
              "<Figure size 534.5x360 with 1 Axes>"
            ],
            "image/png": "[encoded data removed]"
          },
          "metadata": {
            "needs_background": "light"
          }
        }
      ]
    },
    {
      "cell_type": "code",
      "source": [
        "#Dropping currecnys with missing values(more than 50%)\n",
        "\n",
        "forex_data.drop(columns=['TRL'],inplace=True)\n",
        "\n",
        "forex_data.drop(columns=['ILS'],inplace=True)\n",
        "\n",
        "forex_data.drop(columns=['INR'],inplace=True)\n",
        "\n",
        "forex_data.drop(columns=['ISK'],inplace=True)\n",
        "\n",
        "forex_data.drop(columns=['BRL'],inplace=True)\n",
        "\n",
        "forex_data.drop(columns=['MXN'],inplace=True)"
      ],
      "metadata": {
        "id": "Etr6PgOrgpEH"
      },
      "execution_count": 8,
      "outputs": []
    },
    {
      "cell_type": "code",
      "source": [
        "#Plot data after removing missing values \n",
        "plt.figure(figsize=(12,8))\n",
        "sns.displot(data=forex_data.isna().melt(value_name=\"missing_Values\"), y=\"variable\",hue=\"missing_Values\",multiple=\"fill\",aspect=1.25)"
      ],
      "metadata": {
        "colab": {
          "base_uri": "https://localhost:8080/",
          "height": 404
        },
        "id": "LJQ8gSyVhvhn",
        "outputId": "790de2e0-5da6-4ced-a7a9-f1b91035c393"
      },
      "execution_count": 9,
      "outputs": [
        {
          "output_type": "execute_result",
          "data": {
            "text/plain": [
              "<seaborn.axisgrid.FacetGrid at 0x7f88d4128390>"
            ]
          },
          "metadata": {},
          "execution_count": 9
        },
        {
          "output_type": "display_data",
          "data": {
            "text/plain": [
              "<Figure size 864x576 with 0 Axes>"
            ]
          },
          "metadata": {}
        },
        {
          "output_type": "display_data",
          "data": {
            "text/plain": [
              "<Figure size 534.5x360 with 1 Axes>"
            ],
            "image/png": "[encoded data removed]"
          },
          "metadata": {
            "needs_background": "light"
          }
        }
      ]
    },
    {
      "cell_type": "code",
      "source": [
        "#existing null value conut\n",
        "\n",
        "forex_data.isnull().sum()"
      ],
      "metadata": {
        "colab": {
          "base_uri": "https://localhost:8080/"
        },
        "id": "m74_zg1UiK6H",
        "outputId": "978f0394-c8f5-4f56-97e6-85aa0851e6d4"
      },
      "execution_count": 10,
      "outputs": [
        {
          "output_type": "execute_result",
          "data": {
            "text/plain": [
              "Date       0\n",
              "EUR        0\n",
              "JPY        0\n",
              "BGN      398\n",
              "CZK        0\n",
              "DKK        0\n",
              "GBP        0\n",
              "HUF        0\n",
              "PLN        0\n",
              "RON     1664\n",
              "SEK        0\n",
              "CHF        0\n",
              "NOK        0\n",
              "HRK     1599\n",
              "RUB     1655\n",
              "TRY     1537\n",
              "AUD        0\n",
              "CAD        0\n",
              "CNY     1599\n",
              "HKD        0\n",
              "IDR     1599\n",
              "KRW        0\n",
              "MYR     1599\n",
              "NZD        0\n",
              "PHP     1599\n",
              "SGD        0\n",
              "THB     1599\n",
              "ZAR        0\n",
              "dtype: int64"
            ]
          },
          "metadata": {},
          "execution_count": 10
        }
      ]
    },
    {
      "cell_type": "code",
      "source": [
        "#Describe\n",
        "forex_data.describe()"
      ],
      "metadata": {
        "colab": {
          "base_uri": "https://localhost:8080/",
          "height": 286
        },
        "id": "wmlND_16kM2v",
        "outputId": "4cc13eeb-dbc7-4cf8-acd7-e4f4d68959f6"
      },
      "execution_count": 11,
      "outputs": [
        {
          "output_type": "execute_result",
          "data": {
            "text/plain": [
              "              Date     EUR                   JPY                 BGN  \\\n",
              "count         5988    5988                  5988                5590   \n",
              "unique        5988    3609                  5983                3922   \n",
              "top     2022-05-20  1.2276  0.009709060094626085  0.5734226403517741   \n",
              "freq             1       9                     2                   8   \n",
              "\n",
              "                        CZK                  DKK                 GBP  \\\n",
              "count                  5988                 5988                5988   \n",
              "unique                 5977                 5967                5984   \n",
              "top     0.05059346607384497  0.16038192576654117  1.5630750038983314   \n",
              "freq                      2                    2                   2   \n",
              "\n",
              "                        HUF                  PLN                  RON  ...  \\\n",
              "count                  5988                 5988                 4324  ...   \n",
              "unique                 5988                 5988                 4322  ...   \n",
              "top     0.00276212362572794  0.22812466300010786  0.24944604021337713  ...   \n",
              "freq                      1                    1                    2  ...   \n",
              "\n",
              "                        CNY                  HKD                   IDR  \\\n",
              "count                  4389                 5988                  4389   \n",
              "unique                 4382                 5936                  4346   \n",
              "top     0.12082393625018795  0.12903225806451613  9.09090909090909e-05   \n",
              "freq                      2                   14                     5   \n",
              "\n",
              "                          KRW                  MYR                 NZD   PHP  \\\n",
              "count                    5988                 4389                5988  4389   \n",
              "unique                   5978                 4383                5986  4382   \n",
              "top     0.0007692307692307692  0.28567040393180776  0.5154549634700862  0.02   \n",
              "freq                        6                    2                   2     3   \n",
              "\n",
              "                       SGD                  THB                  ZAR  \n",
              "count                 5988                 4389                 5988  \n",
              "unique                5983                 4381                 5984  \n",
              "top     0.6260014197343068  0.03333333333333333  0.14285714285714288  \n",
              "freq                     2                    4                    2  \n",
              "\n",
              "[4 rows x 28 columns]"
            ],
            "text/html": [
              "\n",
              "  <div id=\"df-b32acfc9-21fe-46d7-934c-469dbbb6d3df\">\n",
              "    <div class=\"colab-df-container\">\n",
              "      <div>\n",
              "<style scoped>\n",
              "    .dataframe tbody tr th:only-of-type {\n",
              "        vertical-align: middle;\n",
              "    }\n",
              "\n",
              "    .dataframe tbody tr th {\n",
              "        vertical-align: top;\n",
              "    }\n",
              "\n",
              "    .dataframe thead th {\n",
              "        text-align: right;\n",
              "    }\n",
              "</style>\n",
              "<table border=\"1\" class=\"dataframe\">\n",
              "  <thead>\n",
              "    <tr style=\"text-align: right;\">\n",
              "      <th></th>\n",
              "      <th>Date</th>\n",
              "      <th>EUR</th>\n",
              "      <th>JPY</th>\n",
              "      <th>BGN</th>\n",
              "      <th>CZK</th>\n",
              "      <th>DKK</th>\n",
              "      <th>GBP</th>\n",
              "      <th>HUF</th>\n",
              "      <th>PLN</th>\n",
              "      <th>RON</th>\n",
              "      <th>...</th>\n",
              "      <th>CNY</th>\n",
              "      <th>HKD</th>\n",
              "      <th>IDR</th>\n",
              "      <th>KRW</th>\n",
              "      <th>MYR</th>\n",
              "      <th>NZD</th>\n",
              "      <th>PHP</th>\n",
              "      <th>SGD</th>\n",
              "      <th>THB</th>\n",
              "      <th>ZAR</th>\n",
              "    </tr>\n",
              "  </thead>\n",
              "  <tbody>\n",
              "    <tr>\n",
              "      <th>count</th>\n",
              "      <td>5988</td>\n",
              "      <td>5988</td>\n",
              "      <td>5988</td>\n",
              "      <td>5590</td>\n",
              "      <td>5988</td>\n",
              "      <td>5988</td>\n",
              "      <td>5988</td>\n",
              "      <td>5988</td>\n",
              "      <td>5988</td>\n",
              "      <td>4324</td>\n",
              "      <td>...</td>\n",
              "      <td>4389</td>\n",
              "      <td>5988</td>\n",
              "      <td>4389</td>\n",
              "      <td>5988</td>\n",
              "      <td>4389</td>\n",
              "      <td>5988</td>\n",
              "      <td>4389</td>\n",
              "      <td>5988</td>\n",
              "      <td>4389</td>\n",
              "      <td>5988</td>\n",
              "    </tr>\n",
              "    <tr>\n",
              "      <th>unique</th>\n",
              "      <td>5988</td>\n",
              "      <td>3609</td>\n",
              "      <td>5983</td>\n",
              "      <td>3922</td>\n",
              "      <td>5977</td>\n",
              "      <td>5967</td>\n",
              "      <td>5984</td>\n",
              "      <td>5988</td>\n",
              "      <td>5988</td>\n",
              "      <td>4322</td>\n",
              "      <td>...</td>\n",
              "      <td>4382</td>\n",
              "      <td>5936</td>\n",
              "      <td>4346</td>\n",
              "      <td>5978</td>\n",
              "      <td>4383</td>\n",
              "      <td>5986</td>\n",
              "      <td>4382</td>\n",
              "      <td>5983</td>\n",
              "      <td>4381</td>\n",
              "      <td>5984</td>\n",
              "    </tr>\n",
              "    <tr>\n",
              "      <th>top</th>\n",
              "      <td>2022-05-20</td>\n",
              "      <td>1.2276</td>\n",
              "      <td>0.009709060094626085</td>\n",
              "      <td>0.5734226403517741</td>\n",
              "      <td>0.05059346607384497</td>\n",
              "      <td>0.16038192576654117</td>\n",
              "      <td>1.5630750038983314</td>\n",
              "      <td>0.00276212362572794</td>\n",
              "      <td>0.22812466300010786</td>\n",
              "      <td>0.24944604021337713</td>\n",
              "      <td>...</td>\n",
              "      <td>0.12082393625018795</td>\n",
              "      <td>0.12903225806451613</td>\n",
              "      <td>9.09090909090909e-05</td>\n",
              "      <td>0.0007692307692307692</td>\n",
              "      <td>0.28567040393180776</td>\n",
              "      <td>0.5154549634700862</td>\n",
              "      <td>0.02</td>\n",
              "      <td>0.6260014197343068</td>\n",
              "      <td>0.03333333333333333</td>\n",
              "      <td>0.14285714285714288</td>\n",
              "    </tr>\n",
              "    <tr>\n",
              "      <th>freq</th>\n",
              "      <td>1</td>\n",
              "      <td>9</td>\n",
              "      <td>2</td>\n",
              "      <td>8</td>\n",
              "      <td>2</td>\n",
              "      <td>2</td>\n",
              "      <td>2</td>\n",
              "      <td>1</td>\n",
              "      <td>1</td>\n",
              "      <td>2</td>\n",
              "      <td>...</td>\n",
              "      <td>2</td>\n",
              "      <td>14</td>\n",
              "      <td>5</td>\n",
              "      <td>6</td>\n",
              "      <td>2</td>\n",
              "      <td>2</td>\n",
              "      <td>3</td>\n",
              "      <td>2</td>\n",
              "      <td>4</td>\n",
              "      <td>2</td>\n",
              "    </tr>\n",
              "  </tbody>\n",
              "</table>\n",
              "<p>4 rows × 28 columns</p>\n",
              "</div>\n",
              "      <button class=\"colab-df-convert\" onclick=\"convertToInteractive('df-b32acfc9-21fe-46d7-934c-469dbbb6d3df')\"\n",
              "              title=\"Convert this dataframe to an interactive table.\"\n",
              "              style=\"display:none;\">\n",
              "        \n",
              "  <svg xmlns=\"http://www.w3.org/2000/svg\" height=\"24px\"viewBox=\"0 0 24 24\"\n",
              "       width=\"24px\">\n",
              "    <path d=\"M0 0h24v24H0V0z\" fill=\"none\"/>\n",
              "    <path d=\"M18.56 5.44l.94 2.06.94-2.06 2.06-.94-2.06-.94-.94-2.06-.94 2.06-2.06.94zm-11 1L8.5 8.5l.94-2.06 2.06-.94-2.06-.94L8.5 2.5l-.94 2.06-2.06.94zm10 10l.94 2.06.94-2.06 2.06-.94-2.06-.94-.94-2.06-.94 2.06-2.06.94z\"/><path d=\"M17.41 7.96l-1.37-1.37c-.4-.4-.92-.59-1.43-.59-.52 0-1.04.2-1.43.59L10.3 9.45l-7.72 7.72c-.78.78-.78 2.05 0 2.83L4 21.41c.39.39.9.59 1.41.59.51 0 1.02-.2 1.41-.59l7.78-7.78 2.81-2.81c.8-.78.8-2.07 0-2.86zM5.41 20L4 18.59l7.72-7.72 1.47 1.35L5.41 20z\"/>\n",
              "  </svg>\n",
              "      </button>\n",
              "      \n",
              "  <style>\n",
              "    .colab-df-container {\n",
              "      display:flex;\n",
              "      flex-wrap:wrap;\n",
              "      gap: 12px;\n",
              "    }\n",
              "\n",
              "    .colab-df-convert {\n",
              "      background-color: #E8F0FE;\n",
              "      border: none;\n",
              "      border-radius: 50%;\n",
              "      cursor: pointer;\n",
              "      display: none;\n",
              "      fill: #1967D2;\n",
              "      height: 32px;\n",
              "      padding: 0 0 0 0;\n",
              "      width: 32px;\n",
              "    }\n",
              "\n",
              "    .colab-df-convert:hover {\n",
              "      background-color: #E2EBFA;\n",
              "      box-shadow: 0px 1px 2px rgba(60, 64, 67, 0.3), 0px 1px 3px 1px rgba(60, 64, 67, 0.15);\n",
              "      fill: #174EA6;\n",
              "    }\n",
              "\n",
              "    [theme=dark] .colab-df-convert {\n",
              "      background-color: #3B4455;\n",
              "      fill: #D2E3FC;\n",
              "    }\n",
              "\n",
              "    [theme=dark] .colab-df-convert:hover {\n",
              "      background-color: #434B5C;\n",
              "      box-shadow: 0px 1px 3px 1px rgba(0, 0, 0, 0.15);\n",
              "      filter: drop-shadow(0px 1px 2px rgba(0, 0, 0, 0.3));\n",
              "      fill: #FFFFFF;\n",
              "    }\n",
              "  </style>\n",
              "\n",
              "      <script>\n",
              "        const buttonEl =\n",
              "          document.querySelector('#df-b32acfc9-21fe-46d7-934c-469dbbb6d3df button.colab-df-convert');\n",
              "        buttonEl.style.display =\n",
              "          google.colab.kernel.accessAllowed ? 'block' : 'none';\n",
              "\n",
              "        async function convertToInteractive(key) {\n",
              "          const element = document.querySelector('#df-b32acfc9-21fe-46d7-934c-469dbbb6d3df');\n",
              "          const dataTable =\n",
              "            await google.colab.kernel.invokeFunction('convertToInteractive',\n",
              "                                                     [key], {});\n",
              "          if (!dataTable) return;\n",
              "\n",
              "          const docLinkHtml = 'Like what you see? Visit the ' +\n",
              "            '<a target=\"_blank\" href=https://colab.research.google.com/notebooks/data_table.ipynb>data table notebook</a>'\n",
              "            + ' to learn more about interactive tables.';\n",
              "          element.innerHTML = '';\n",
              "          dataTable['output_type'] = 'display_data';\n",
              "          await google.colab.output.renderOutput(dataTable, element);\n",
              "          const docLink = document.createElement('div');\n",
              "          docLink.innerHTML = docLinkHtml;\n",
              "          element.appendChild(docLink);\n",
              "        }\n",
              "      </script>\n",
              "    </div>\n",
              "  </div>\n",
              "  "
            ]
          },
          "metadata": {},
          "execution_count": 11
        }
      ]
    },
    {
      "cell_type": "code",
      "source": [
        "#Identify data type missmatching issues\n",
        "forex_data.info()"
      ],
      "metadata": {
        "colab": {
          "base_uri": "https://localhost:8080/"
        },
        "id": "8lIK7zVLkd3f",
        "outputId": "a52b50b2-0707-4461-8765-ae231ce71df1"
      },
      "execution_count": 12,
      "outputs": [
        {
          "output_type": "stream",
          "name": "stdout",
          "text": [
            "<class 'pandas.core.frame.DataFrame'>\n",
            "Int64Index: 5988 entries, 1 to 5988\n",
            "Data columns (total 28 columns):\n",
            " #   Column  Non-Null Count  Dtype \n",
            "---  ------  --------------  ----- \n",
            " 0   Date    5988 non-null   object\n",
            " 1   EUR     5988 non-null   object\n",
            " 2   JPY     5988 non-null   object\n",
            " 3   BGN     5590 non-null   object\n",
            " 4   CZK     5988 non-null   object\n",
            " 5   DKK     5988 non-null   object\n",
            " 6   GBP     5988 non-null   object\n",
            " 7   HUF     5988 non-null   object\n",
            " 8   PLN     5988 non-null   object\n",
            " 9   RON     4324 non-null   object\n",
            " 10  SEK     5988 non-null   object\n",
            " 11  CHF     5988 non-null   object\n",
            " 12  NOK     5988 non-null   object\n",
            " 13  HRK     4389 non-null   object\n",
            " 14  RUB     4333 non-null   object\n",
            " 15  TRY     4451 non-null   object\n",
            " 16  AUD     5988 non-null   object\n",
            " 17  CAD     5988 non-null   object\n",
            " 18  CNY     4389 non-null   object\n",
            " 19  HKD     5988 non-null   object\n",
            " 20  IDR     4389 non-null   object\n",
            " 21  KRW     5988 non-null   object\n",
            " 22  MYR     4389 non-null   object\n",
            " 23  NZD     5988 non-null   object\n",
            " 24  PHP     4389 non-null   object\n",
            " 25  SGD     5988 non-null   object\n",
            " 26  THB     4389 non-null   object\n",
            " 27  ZAR     5988 non-null   object\n",
            "dtypes: object(28)\n",
            "memory usage: 1.3+ MB\n"
          ]
        }
      ]
    },
    {
      "cell_type": "code",
      "source": [
        "#Conver dictornary\n",
        "\n",
        "curruncy_type_map = {\n",
        "\n",
        "     'EUR':float,\n",
        "\n",
        "     'JPY':float,\n",
        "\n",
        "     'BGN':float,\n",
        "\n",
        "     'CZK':float,\n",
        "\n",
        "     'DKK':float,\n",
        "\n",
        "     'GBP':float,\n",
        "\n",
        "     'HUF':float,\n",
        "\n",
        "     'PLN':float,\n",
        "\n",
        "     'RON':float,\n",
        "\n",
        "     'SEK':float,\n",
        "\n",
        "     'CHF':float,\n",
        "\n",
        "      'NOK':float,\n",
        "\n",
        "     'HRK':float,\n",
        "\n",
        "     'RUB':float,\n",
        "\n",
        "     'TRY':float,\n",
        "\n",
        "     'AUD':float,\n",
        "\n",
        "     'CAD':float,\n",
        "\n",
        "     'CNY':float,\n",
        "\n",
        "      'HKD':float,\n",
        "\n",
        "     'IDR':float,\n",
        "\n",
        "     'KRW':float,\n",
        "\n",
        "     'MYR':float,\n",
        "\n",
        "     'NZD':float,\n",
        "\n",
        "     'PHP':float,  \n",
        "\n",
        "     'SGD':float,\n",
        "\n",
        "     'THB':float,\n",
        "\n",
        "     'ZAR':float,\n",
        "\n",
        "    \n",
        "}\n",
        "#Converte curruncy values in float data type\n",
        "forex_data = forex_data.astype(curruncy_type_map)"
      ],
      "metadata": {
        "id": "xf-i63qwkw53"
      },
      "execution_count": 13,
      "outputs": []
    },
    {
      "cell_type": "code",
      "source": [
        "#Verify data type conversion\n",
        "forex_data.info()\n",
        "#Describe\n",
        "forex_data.describe()"
      ],
      "metadata": {
        "colab": {
          "base_uri": "https://localhost:8080/",
          "height": 1000
        },
        "id": "IYxOHXyflXA2",
        "outputId": "1726ff20-4dc7-465b-9a68-61a8eda20183"
      },
      "execution_count": 14,
      "outputs": [
        {
          "output_type": "stream",
          "name": "stdout",
          "text": [
            "<class 'pandas.core.frame.DataFrame'>\n",
            "Int64Index: 5988 entries, 1 to 5988\n",
            "Data columns (total 28 columns):\n",
            " #   Column  Non-Null Count  Dtype  \n",
            "---  ------  --------------  -----  \n",
            " 0   Date    5988 non-null   object \n",
            " 1   EUR     5988 non-null   float64\n",
            " 2   JPY     5988 non-null   float64\n",
            " 3   BGN     5590 non-null   float64\n",
            " 4   CZK     5988 non-null   float64\n",
            " 5   DKK     5988 non-null   float64\n",
            " 6   GBP     5988 non-null   float64\n",
            " 7   HUF     5988 non-null   float64\n",
            " 8   PLN     5988 non-null   float64\n",
            " 9   RON     4324 non-null   float64\n",
            " 10  SEK     5988 non-null   float64\n",
            " 11  CHF     5988 non-null   float64\n",
            " 12  NOK     5988 non-null   float64\n",
            " 13  HRK     4389 non-null   float64\n",
            " 14  RUB     4333 non-null   float64\n",
            " 15  TRY     4451 non-null   float64\n",
            " 16  AUD     5988 non-null   float64\n",
            " 17  CAD     5988 non-null   float64\n",
            " 18  CNY     4389 non-null   float64\n",
            " 19  HKD     5988 non-null   float64\n",
            " 20  IDR     4389 non-null   float64\n",
            " 21  KRW     5988 non-null   float64\n",
            " 22  MYR     4389 non-null   float64\n",
            " 23  NZD     5988 non-null   float64\n",
            " 24  PHP     4389 non-null   float64\n",
            " 25  SGD     5988 non-null   float64\n",
            " 26  THB     4389 non-null   float64\n",
            " 27  ZAR     5988 non-null   float64\n",
            "dtypes: float64(27), object(1)\n",
            "memory usage: 1.3+ MB\n"
          ]
        },
        {
          "output_type": "execute_result",
          "data": {
            "text/plain": [
              "               EUR          JPY          BGN          CZK          DKK  \\\n",
              "count  5988.000000  5988.000000  5590.000000  5988.000000  5988.000000   \n",
              "mean      1.197371     0.009471     0.618686     0.043380     0.160753   \n",
              "std       0.158157     0.001263     0.079349     0.009171     0.021186   \n",
              "min       0.825200     0.007418     0.424028     0.023699     0.110868   \n",
              "25%       1.101475     0.008590     0.571173     0.039112     0.147744   \n",
              "50%       1.193200     0.009158     0.618305     0.044238     0.160193   \n",
              "75%       1.314225     0.009768     0.675631     0.049620     0.176494   \n",
              "max       1.599000     0.013198     0.817568     0.069174     0.214352   \n",
              "\n",
              "               GBP          HUF          PLN          RON          SEK  ...  \\\n",
              "count  5988.000000  5988.000000  5988.000000  4324.000000  5988.000000  ...   \n",
              "mean      1.561889     0.004249     0.290220     0.295604     0.127228  ...   \n",
              "std       0.207883     0.000782     0.048348     0.057346     0.018481  ...   \n",
              "min       1.159837     0.002697     0.212185     0.209989     0.090564  ...   \n",
              "25%       1.405618     0.003553     0.253846     0.245446     0.113345  ...   \n",
              "50%       1.561633     0.004245     0.272142     0.292226     0.123383  ...   \n",
              "75%       1.657185     0.004782     0.319832     0.333669     0.143235  ...   \n",
              "max       2.106427     0.006949     0.493156     0.447877     0.171058  ...   \n",
              "\n",
              "               CNY          HKD          IDR          KRW          MYR  \\\n",
              "count  4389.000000  5988.000000  4389.000000  5988.000000  4389.000000   \n",
              "mean      0.148168     0.128522     0.000090     0.000889     0.275643   \n",
              "std       0.011375     0.000452     0.000017     0.000079     0.033805   \n",
              "min       0.120823     0.127388     0.000060     0.000632     0.222348   \n",
              "25%       0.144162     0.128213     0.000073     0.000842     0.241734   \n",
              "50%       0.149175     0.128610     0.000087     0.000881     0.273450   \n",
              "75%       0.157147     0.128937     0.000108     0.000924     0.308121   \n",
              "max       0.165486     0.130629     0.000118     0.001110     0.340193   \n",
              "\n",
              "               NZD          PHP          SGD          THB          ZAR  \n",
              "count  5988.000000  4389.000000  5988.000000  4389.000000  5988.000000  \n",
              "mean      0.667506     0.021162     0.687051     0.030358     0.111917  \n",
              "std       0.114494     0.001717     0.081993     0.002251     0.034035  \n",
              "min       0.392030     0.017763     0.539303     0.023732     0.052436  \n",
              "25%       0.618446     0.019711     0.596808     0.029057     0.075741  \n",
              "50%       0.687453     0.021034     0.714690     0.030708     0.118701  \n",
              "75%       0.737894     0.022631     0.743092     0.032013     0.141090  \n",
              "max       0.881819     0.024863     0.833285     0.034965     0.177974  \n",
              "\n",
              "[8 rows x 27 columns]"
            ],
            "text/html": [
              "\n",
              "  <div id=\"df-7b90a63e-60cb-41f0-a746-1912f84222f3\">\n",
              "    <div class=\"colab-df-container\">\n",
              "      <div>\n",
              "<style scoped>\n",
              "    .dataframe tbody tr th:only-of-type {\n",
              "        vertical-align: middle;\n",
              "    }\n",
              "\n",
              "    .dataframe tbody tr th {\n",
              "        vertical-align: top;\n",
              "    }\n",
              "\n",
              "    .dataframe thead th {\n",
              "        text-align: right;\n",
              "    }\n",
              "</style>\n",
              "<table border=\"1\" class=\"dataframe\">\n",
              "  <thead>\n",
              "    <tr style=\"text-align: right;\">\n",
              "      <th></th>\n",
              "      <th>EUR</th>\n",
              "      <th>JPY</th>\n",
              "      <th>BGN</th>\n",
              "      <th>CZK</th>\n",
              "      <th>DKK</th>\n",
              "      <th>GBP</th>\n",
              "      <th>HUF</th>\n",
              "      <th>PLN</th>\n",
              "      <th>RON</th>\n",
              "      <th>SEK</th>\n",
              "      <th>...</th>\n",
              "      <th>CNY</th>\n",
              "      <th>HKD</th>\n",
              "      <th>IDR</th>\n",
              "      <th>KRW</th>\n",
              "      <th>MYR</th>\n",
              "      <th>NZD</th>\n",
              "      <th>PHP</th>\n",
              "      <th>SGD</th>\n",
              "      <th>THB</th>\n",
              "      <th>ZAR</th>\n",
              "    </tr>\n",
              "  </thead>\n",
              "  <tbody>\n",
              "    <tr>\n",
              "      <th>count</th>\n",
              "      <td>5988.000000</td>\n",
              "      <td>5988.000000</td>\n",
              "      <td>5590.000000</td>\n",
              "      <td>5988.000000</td>\n",
              "      <td>5988.000000</td>\n",
              "      <td>5988.000000</td>\n",
              "      <td>5988.000000</td>\n",
              "      <td>5988.000000</td>\n",
              "      <td>4324.000000</td>\n",
              "      <td>5988.000000</td>\n",
              "      <td>...</td>\n",
              "      <td>4389.000000</td>\n",
              "      <td>5988.000000</td>\n",
              "      <td>4389.000000</td>\n",
              "      <td>5988.000000</td>\n",
              "      <td>4389.000000</td>\n",
              "      <td>5988.000000</td>\n",
              "      <td>4389.000000</td>\n",
              "      <td>5988.000000</td>\n",
              "      <td>4389.000000</td>\n",
              "      <td>5988.000000</td>\n",
              "    </tr>\n",
              "    <tr>\n",
              "      <th>mean</th>\n",
              "      <td>1.197371</td>\n",
              "      <td>0.009471</td>\n",
              "      <td>0.618686</td>\n",
              "      <td>0.043380</td>\n",
              "      <td>0.160753</td>\n",
              "      <td>1.561889</td>\n",
              "      <td>0.004249</td>\n",
              "      <td>0.290220</td>\n",
              "      <td>0.295604</td>\n",
              "      <td>0.127228</td>\n",
              "      <td>...</td>\n",
              "      <td>0.148168</td>\n",
              "      <td>0.128522</td>\n",
              "      <td>0.000090</td>\n",
              "      <td>0.000889</td>\n",
              "      <td>0.275643</td>\n",
              "      <td>0.667506</td>\n",
              "      <td>0.021162</td>\n",
              "      <td>0.687051</td>\n",
              "      <td>0.030358</td>\n",
              "      <td>0.111917</td>\n",
              "    </tr>\n",
              "    <tr>\n",
              "      <th>std</th>\n",
              "      <td>0.158157</td>\n",
              "      <td>0.001263</td>\n",
              "      <td>0.079349</td>\n",
              "      <td>0.009171</td>\n",
              "      <td>0.021186</td>\n",
              "      <td>0.207883</td>\n",
              "      <td>0.000782</td>\n",
              "      <td>0.048348</td>\n",
              "      <td>0.057346</td>\n",
              "      <td>0.018481</td>\n",
              "      <td>...</td>\n",
              "      <td>0.011375</td>\n",
              "      <td>0.000452</td>\n",
              "      <td>0.000017</td>\n",
              "      <td>0.000079</td>\n",
              "      <td>0.033805</td>\n",
              "      <td>0.114494</td>\n",
              "      <td>0.001717</td>\n",
              "      <td>0.081993</td>\n",
              "      <td>0.002251</td>\n",
              "      <td>0.034035</td>\n",
              "    </tr>\n",
              "    <tr>\n",
              "      <th>min</th>\n",
              "      <td>0.825200</td>\n",
              "      <td>0.007418</td>\n",
              "      <td>0.424028</td>\n",
              "      <td>0.023699</td>\n",
              "      <td>0.110868</td>\n",
              "      <td>1.159837</td>\n",
              "      <td>0.002697</td>\n",
              "      <td>0.212185</td>\n",
              "      <td>0.209989</td>\n",
              "      <td>0.090564</td>\n",
              "      <td>...</td>\n",
              "      <td>0.120823</td>\n",
              "      <td>0.127388</td>\n",
              "      <td>0.000060</td>\n",
              "      <td>0.000632</td>\n",
              "      <td>0.222348</td>\n",
              "      <td>0.392030</td>\n",
              "      <td>0.017763</td>\n",
              "      <td>0.539303</td>\n",
              "      <td>0.023732</td>\n",
              "      <td>0.052436</td>\n",
              "    </tr>\n",
              "    <tr>\n",
              "      <th>25%</th>\n",
              "      <td>1.101475</td>\n",
              "      <td>0.008590</td>\n",
              "      <td>0.571173</td>\n",
              "      <td>0.039112</td>\n",
              "      <td>0.147744</td>\n",
              "      <td>1.405618</td>\n",
              "      <td>0.003553</td>\n",
              "      <td>0.253846</td>\n",
              "      <td>0.245446</td>\n",
              "      <td>0.113345</td>\n",
              "      <td>...</td>\n",
              "      <td>0.144162</td>\n",
              "      <td>0.128213</td>\n",
              "      <td>0.000073</td>\n",
              "      <td>0.000842</td>\n",
              "      <td>0.241734</td>\n",
              "      <td>0.618446</td>\n",
              "      <td>0.019711</td>\n",
              "      <td>0.596808</td>\n",
              "      <td>0.029057</td>\n",
              "      <td>0.075741</td>\n",
              "    </tr>\n",
              "    <tr>\n",
              "      <th>50%</th>\n",
              "      <td>1.193200</td>\n",
              "      <td>0.009158</td>\n",
              "      <td>0.618305</td>\n",
              "      <td>0.044238</td>\n",
              "      <td>0.160193</td>\n",
              "      <td>1.561633</td>\n",
              "      <td>0.004245</td>\n",
              "      <td>0.272142</td>\n",
              "      <td>0.292226</td>\n",
              "      <td>0.123383</td>\n",
              "      <td>...</td>\n",
              "      <td>0.149175</td>\n",
              "      <td>0.128610</td>\n",
              "      <td>0.000087</td>\n",
              "      <td>0.000881</td>\n",
              "      <td>0.273450</td>\n",
              "      <td>0.687453</td>\n",
              "      <td>0.021034</td>\n",
              "      <td>0.714690</td>\n",
              "      <td>0.030708</td>\n",
              "      <td>0.118701</td>\n",
              "    </tr>\n",
              "    <tr>\n",
              "      <th>75%</th>\n",
              "      <td>1.314225</td>\n",
              "      <td>0.009768</td>\n",
              "      <td>0.675631</td>\n",
              "      <td>0.049620</td>\n",
              "      <td>0.176494</td>\n",
              "      <td>1.657185</td>\n",
              "      <td>0.004782</td>\n",
              "      <td>0.319832</td>\n",
              "      <td>0.333669</td>\n",
              "      <td>0.143235</td>\n",
              "      <td>...</td>\n",
              "      <td>0.157147</td>\n",
              "      <td>0.128937</td>\n",
              "      <td>0.000108</td>\n",
              "      <td>0.000924</td>\n",
              "      <td>0.308121</td>\n",
              "      <td>0.737894</td>\n",
              "      <td>0.022631</td>\n",
              "      <td>0.743092</td>\n",
              "      <td>0.032013</td>\n",
              "      <td>0.141090</td>\n",
              "    </tr>\n",
              "    <tr>\n",
              "      <th>max</th>\n",
              "      <td>1.599000</td>\n",
              "      <td>0.013198</td>\n",
              "      <td>0.817568</td>\n",
              "      <td>0.069174</td>\n",
              "      <td>0.214352</td>\n",
              "      <td>2.106427</td>\n",
              "      <td>0.006949</td>\n",
              "      <td>0.493156</td>\n",
              "      <td>0.447877</td>\n",
              "      <td>0.171058</td>\n",
              "      <td>...</td>\n",
              "      <td>0.165486</td>\n",
              "      <td>0.130629</td>\n",
              "      <td>0.000118</td>\n",
              "      <td>0.001110</td>\n",
              "      <td>0.340193</td>\n",
              "      <td>0.881819</td>\n",
              "      <td>0.024863</td>\n",
              "      <td>0.833285</td>\n",
              "      <td>0.034965</td>\n",
              "      <td>0.177974</td>\n",
              "    </tr>\n",
              "  </tbody>\n",
              "</table>\n",
              "<p>8 rows × 27 columns</p>\n",
              "</div>\n",
              "      <button class=\"colab-df-convert\" onclick=\"convertToInteractive('df-7b90a63e-60cb-41f0-a746-1912f84222f3')\"\n",
              "              title=\"Convert this dataframe to an interactive table.\"\n",
              "              style=\"display:none;\">\n",
              "        \n",
              "  <svg xmlns=\"http://www.w3.org/2000/svg\" height=\"24px\"viewBox=\"0 0 24 24\"\n",
              "       width=\"24px\">\n",
              "    <path d=\"M0 0h24v24H0V0z\" fill=\"none\"/>\n",
              "    <path d=\"M18.56 5.44l.94 2.06.94-2.06 2.06-.94-2.06-.94-.94-2.06-.94 2.06-2.06.94zm-11 1L8.5 8.5l.94-2.06 2.06-.94-2.06-.94L8.5 2.5l-.94 2.06-2.06.94zm10 10l.94 2.06.94-2.06 2.06-.94-2.06-.94-.94-2.06-.94 2.06-2.06.94z\"/><path d=\"M17.41 7.96l-1.37-1.37c-.4-.4-.92-.59-1.43-.59-.52 0-1.04.2-1.43.59L10.3 9.45l-7.72 7.72c-.78.78-.78 2.05 0 2.83L4 21.41c.39.39.9.59 1.41.59.51 0 1.02-.2 1.41-.59l7.78-7.78 2.81-2.81c.8-.78.8-2.07 0-2.86zM5.41 20L4 18.59l7.72-7.72 1.47 1.35L5.41 20z\"/>\n",
              "  </svg>\n",
              "      </button>\n",
              "      \n",
              "  <style>\n",
              "    .colab-df-container {\n",
              "      display:flex;\n",
              "      flex-wrap:wrap;\n",
              "      gap: 12px;\n",
              "    }\n",
              "\n",
              "    .colab-df-convert {\n",
              "      background-color: #E8F0FE;\n",
              "      border: none;\n",
              "      border-radius: 50%;\n",
              "      cursor: pointer;\n",
              "      display: none;\n",
              "      fill: #1967D2;\n",
              "      height: 32px;\n",
              "      padding: 0 0 0 0;\n",
              "      width: 32px;\n",
              "    }\n",
              "\n",
              "    .colab-df-convert:hover {\n",
              "      background-color: #E2EBFA;\n",
              "      box-shadow: 0px 1px 2px rgba(60, 64, 67, 0.3), 0px 1px 3px 1px rgba(60, 64, 67, 0.15);\n",
              "      fill: #174EA6;\n",
              "    }\n",
              "\n",
              "    [theme=dark] .colab-df-convert {\n",
              "      background-color: #3B4455;\n",
              "      fill: #D2E3FC;\n",
              "    }\n",
              "\n",
              "    [theme=dark] .colab-df-convert:hover {\n",
              "      background-color: #434B5C;\n",
              "      box-shadow: 0px 1px 3px 1px rgba(0, 0, 0, 0.15);\n",
              "      filter: drop-shadow(0px 1px 2px rgba(0, 0, 0, 0.3));\n",
              "      fill: #FFFFFF;\n",
              "    }\n",
              "  </style>\n",
              "\n",
              "      <script>\n",
              "        const buttonEl =\n",
              "          document.querySelector('#df-7b90a63e-60cb-41f0-a746-1912f84222f3 button.colab-df-convert');\n",
              "        buttonEl.style.display =\n",
              "          google.colab.kernel.accessAllowed ? 'block' : 'none';\n",
              "\n",
              "        async function convertToInteractive(key) {\n",
              "          const element = document.querySelector('#df-7b90a63e-60cb-41f0-a746-1912f84222f3');\n",
              "          const dataTable =\n",
              "            await google.colab.kernel.invokeFunction('convertToInteractive',\n",
              "                                                     [key], {});\n",
              "          if (!dataTable) return;\n",
              "\n",
              "          const docLinkHtml = 'Like what you see? Visit the ' +\n",
              "            '<a target=\"_blank\" href=https://colab.research.google.com/notebooks/data_table.ipynb>data table notebook</a>'\n",
              "            + ' to learn more about interactive tables.';\n",
              "          element.innerHTML = '';\n",
              "          dataTable['output_type'] = 'display_data';\n",
              "          await google.colab.output.renderOutput(dataTable, element);\n",
              "          const docLink = document.createElement('div');\n",
              "          docLink.innerHTML = docLinkHtml;\n",
              "          element.appendChild(docLink);\n",
              "        }\n",
              "      </script>\n",
              "    </div>\n",
              "  </div>\n",
              "  "
            ]
          },
          "metadata": {},
          "execution_count": 14
        }
      ]
    },
    {
      "cell_type": "code",
      "source": [
        "#Plot data after removing missing values \n",
        "plt.figure(figsize=(12,8))\n",
        "sns.displot(data=forex_data.isna().melt(value_name=\"missing_Values\"), y=\"variable\",hue=\"missing_Values\",multiple=\"fill\",aspect=1.25)"
      ],
      "metadata": {
        "id": "3jABRhk_vtD0",
        "outputId": "6d75fdc3-20e7-4798-f7aa-37851cdcad03",
        "colab": {
          "base_uri": "https://localhost:8080/",
          "height": 404
        }
      },
      "execution_count": 15,
      "outputs": [
        {
          "output_type": "execute_result",
          "data": {
            "text/plain": [
              "<seaborn.axisgrid.FacetGrid at 0x7f88d11a0550>"
            ]
          },
          "metadata": {},
          "execution_count": 15
        },
        {
          "output_type": "display_data",
          "data": {
            "text/plain": [
              "<Figure size 864x576 with 0 Axes>"
            ]
          },
          "metadata": {}
        },
        {
          "output_type": "display_data",
          "data": {
            "text/plain": [
              "<Figure size 534.5x360 with 1 Axes>"
            ],
            "image/png": "[encoded data removed]"
          },
          "metadata": {
            "needs_background": "light"
          }
        }
      ]
    },
    {
      "cell_type": "code",
      "source": [
        "# replace remaining null  vaues with mean\n",
        "forex_data['BGN'] = forex_data['BGN'].fillna(forex_data['BGN'].mean())\n",
        "forex_data['RON'] = forex_data['RON'].fillna(forex_data['RON'].mean())\n",
        "forex_data['TRY'] = forex_data['TRY'].fillna(forex_data['RUB'].mean())\n",
        "forex_data['HRK'] = forex_data['HRK'].fillna(forex_data['HRK'].mean())\n",
        "forex_data['RUB'] = forex_data['RUB'].fillna(forex_data['RUB'].mean())\n",
        "forex_data['CNY'] = forex_data['CNY'].fillna(forex_data['CNY'].mean())\n",
        "forex_data['IDR'] = forex_data['IDR'].fillna(forex_data['IDR'].mean())\n",
        "forex_data['MYR'] = forex_data['MYR'].fillna(forex_data['MYR'].mean())\n",
        "forex_data['PHP'] = forex_data['PHP'].fillna(forex_data['PHP'].mean())\n",
        "forex_data['THB'] = forex_data['THB'].fillna(forex_data['THB'].mean())\n",
        "\n",
        "\n"
      ],
      "metadata": {
        "id": "Rq2KW47tv83t"
      },
      "execution_count": 16,
      "outputs": []
    },
    {
      "cell_type": "code",
      "source": [
        "#view cleaned data set\n",
        "plt.figure(figsize=(12,8))\n",
        "sns.displot(data=forex_data.isna().melt(value_name=\"missing_Values\"), y=\"variable\",hue=\"missing_Values\",multiple=\"fill\",aspect=1.25)\n"
      ],
      "metadata": {
        "id": "ppVaX2N0yC9_",
        "outputId": "05f2ea4d-0d2f-4f5b-be73-d8a296cc2a06",
        "colab": {
          "base_uri": "https://localhost:8080/",
          "height": 404
        }
      },
      "execution_count": 17,
      "outputs": [
        {
          "output_type": "execute_result",
          "data": {
            "text/plain": [
              "<seaborn.axisgrid.FacetGrid at 0x7f88d1167650>"
            ]
          },
          "metadata": {},
          "execution_count": 17
        },
        {
          "output_type": "display_data",
          "data": {
            "text/plain": [
              "<Figure size 864x576 with 0 Axes>"
            ]
          },
          "metadata": {}
        },
        {
          "output_type": "display_data",
          "data": {
            "text/plain": [
              "<Figure size 534.5x360 with 1 Axes>"
            ],
            "image/png": "[encoded data removed]"
          },
          "metadata": {
            "needs_background": "light"
          }
        }
      ]
    },
    {
      "cell_type": "code",
      "source": [
        "#Save cleaned data\n",
        "forex_data.to_csv(\"/content/drive/MyDrive/ECB_FX_USD-quote-cleaned.csv\")"
      ],
      "metadata": {
        "id": "1snfb3mK1akX"
      },
      "execution_count": 18,
      "outputs": []
    },
    {
      "cell_type": "code",
      "source": [
        "#load cleaned data \n",
        "forex_cleaned_data = pd.read_csv('/content/drive/MyDrive/ECB_FX_USD-quote-cleaned.csv')\n",
        "forex_cleaned_data.head()"
      ],
      "metadata": {
        "id": "AaZM7oPguQdk",
        "colab": {
          "base_uri": "https://localhost:8080/",
          "height": 404
        },
        "outputId": "ca489f22-22e2-4aac-f618-8c03ab692b6c"
      },
      "execution_count": 19,
      "outputs": [
        {
          "output_type": "execute_result",
          "data": {
            "text/plain": [
              "   Unnamed: 0        Date     EUR       JPY       BGN       CZK       DKK  \\\n",
              "0           1  2022-05-20  1.0577  0.007815  0.540802  0.042874  0.142118   \n",
              "1           2  2022-05-19  1.0525  0.007828  0.538143  0.042611  0.141421   \n",
              "2           3  2022-05-18  1.0523  0.007751  0.538041  0.042695  0.141402   \n",
              "3           4  2022-05-17  1.0541  0.007733  0.538961  0.042655  0.141653   \n",
              "4           5  2022-05-16  1.0422  0.007719  0.532877  0.042177  0.140047   \n",
              "\n",
              "        GBP       HUF       PLN  ...       CNY       HKD       IDR       KRW  \\\n",
              "0  1.246994  0.002762  0.228125  ...  0.149735  0.127435  0.000068  0.000789   \n",
              "1  1.242210  0.002728  0.226720  ...  0.148181  0.127431  0.000068  0.000784   \n",
              "2  1.242825  0.002748  0.226579  ...  0.148270  0.127411  0.000068  0.000790   \n",
              "3  1.248934  0.002729  0.226747  ...  0.148676  0.127393  0.000068  0.000790   \n",
              "4  1.225469  0.002701  0.223289  ...  0.147233  0.127390  0.000068  0.000779   \n",
              "\n",
              "        MYR       NZD       PHP       SGD       THB       ZAR  \n",
              "0  0.227845  0.640332  0.019168  0.725048  0.029151  0.063286  \n",
              "1  0.227013  0.635913  0.019088  0.722077  0.028960  0.062532  \n",
              "2  0.227505  0.635908  0.019106  0.720852  0.028910  0.062894  \n",
              "3  0.228106  0.636495  0.019118  0.722531  0.028990  0.062580  \n",
              "4  0.227376  0.627794  0.019051  0.717225  0.028731  0.061598  \n",
              "\n",
              "[5 rows x 29 columns]"
            ],
            "text/html": [
              "\n",
              "  <div id=\"df-952afc96-345a-47f6-aa3a-f9a16590f134\">\n",
              "    <div class=\"colab-df-container\">\n",
              "      <div>\n",
              "<style scoped>\n",
              "    .dataframe tbody tr th:only-of-type {\n",
              "        vertical-align: middle;\n",
              "    }\n",
              "\n",
              "    .dataframe tbody tr th {\n",
              "        vertical-align: top;\n",
              "    }\n",
              "\n",
              "    .dataframe thead th {\n",
              "        text-align: right;\n",
              "    }\n",
              "</style>\n",
              "<table border=\"1\" class=\"dataframe\">\n",
              "  <thead>\n",
              "    <tr style=\"text-align: right;\">\n",
              "      <th></th>\n",
              "      <th>Unnamed: 0</th>\n",
              "      <th>Date</th>\n",
              "      <th>EUR</th>\n",
              "      <th>JPY</th>\n",
              "      <th>BGN</th>\n",
              "      <th>CZK</th>\n",
              "      <th>DKK</th>\n",
              "      <th>GBP</th>\n",
              "      <th>HUF</th>\n",
              "      <th>PLN</th>\n",
              "      <th>...</th>\n",
              "      <th>CNY</th>\n",
              "      <th>HKD</th>\n",
              "      <th>IDR</th>\n",
              "      <th>KRW</th>\n",
              "      <th>MYR</th>\n",
              "      <th>NZD</th>\n",
              "      <th>PHP</th>\n",
              "      <th>SGD</th>\n",
              "      <th>THB</th>\n",
              "      <th>ZAR</th>\n",
              "    </tr>\n",
              "  </thead>\n",
              "  <tbody>\n",
              "    <tr>\n",
              "      <th>0</th>\n",
              "      <td>1</td>\n",
              "      <td>2022-05-20</td>\n",
              "      <td>1.0577</td>\n",
              "      <td>0.007815</td>\n",
              "      <td>0.540802</td>\n",
              "      <td>0.042874</td>\n",
              "      <td>0.142118</td>\n",
              "      <td>1.246994</td>\n",
              "      <td>0.002762</td>\n",
              "      <td>0.228125</td>\n",
              "      <td>...</td>\n",
              "      <td>0.149735</td>\n",
              "      <td>0.127435</td>\n",
              "      <td>0.000068</td>\n",
              "      <td>0.000789</td>\n",
              "      <td>0.227845</td>\n",
              "      <td>0.640332</td>\n",
              "      <td>0.019168</td>\n",
              "      <td>0.725048</td>\n",
              "      <td>0.029151</td>\n",
              "      <td>0.063286</td>\n",
              "    </tr>\n",
              "    <tr>\n",
              "      <th>1</th>\n",
              "      <td>2</td>\n",
              "      <td>2022-05-19</td>\n",
              "      <td>1.0525</td>\n",
              "      <td>0.007828</td>\n",
              "      <td>0.538143</td>\n",
              "      <td>0.042611</td>\n",
              "      <td>0.141421</td>\n",
              "      <td>1.242210</td>\n",
              "      <td>0.002728</td>\n",
              "      <td>0.226720</td>\n",
              "      <td>...</td>\n",
              "      <td>0.148181</td>\n",
              "      <td>0.127431</td>\n",
              "      <td>0.000068</td>\n",
              "      <td>0.000784</td>\n",
              "      <td>0.227013</td>\n",
              "      <td>0.635913</td>\n",
              "      <td>0.019088</td>\n",
              "      <td>0.722077</td>\n",
              "      <td>0.028960</td>\n",
              "      <td>0.062532</td>\n",
              "    </tr>\n",
              "    <tr>\n",
              "      <th>2</th>\n",
              "      <td>3</td>\n",
              "      <td>2022-05-18</td>\n",
              "      <td>1.0523</td>\n",
              "      <td>0.007751</td>\n",
              "      <td>0.538041</td>\n",
              "      <td>0.042695</td>\n",
              "      <td>0.141402</td>\n",
              "      <td>1.242825</td>\n",
              "      <td>0.002748</td>\n",
              "      <td>0.226579</td>\n",
              "      <td>...</td>\n",
              "      <td>0.148270</td>\n",
              "      <td>0.127411</td>\n",
              "      <td>0.000068</td>\n",
              "      <td>0.000790</td>\n",
              "      <td>0.227505</td>\n",
              "      <td>0.635908</td>\n",
              "      <td>0.019106</td>\n",
              "      <td>0.720852</td>\n",
              "      <td>0.028910</td>\n",
              "      <td>0.062894</td>\n",
              "    </tr>\n",
              "    <tr>\n",
              "      <th>3</th>\n",
              "      <td>4</td>\n",
              "      <td>2022-05-17</td>\n",
              "      <td>1.0541</td>\n",
              "      <td>0.007733</td>\n",
              "      <td>0.538961</td>\n",
              "      <td>0.042655</td>\n",
              "      <td>0.141653</td>\n",
              "      <td>1.248934</td>\n",
              "      <td>0.002729</td>\n",
              "      <td>0.226747</td>\n",
              "      <td>...</td>\n",
              "      <td>0.148676</td>\n",
              "      <td>0.127393</td>\n",
              "      <td>0.000068</td>\n",
              "      <td>0.000790</td>\n",
              "      <td>0.228106</td>\n",
              "      <td>0.636495</td>\n",
              "      <td>0.019118</td>\n",
              "      <td>0.722531</td>\n",
              "      <td>0.028990</td>\n",
              "      <td>0.062580</td>\n",
              "    </tr>\n",
              "    <tr>\n",
              "      <th>4</th>\n",
              "      <td>5</td>\n",
              "      <td>2022-05-16</td>\n",
              "      <td>1.0422</td>\n",
              "      <td>0.007719</td>\n",
              "      <td>0.532877</td>\n",
              "      <td>0.042177</td>\n",
              "      <td>0.140047</td>\n",
              "      <td>1.225469</td>\n",
              "      <td>0.002701</td>\n",
              "      <td>0.223289</td>\n",
              "      <td>...</td>\n",
              "      <td>0.147233</td>\n",
              "      <td>0.127390</td>\n",
              "      <td>0.000068</td>\n",
              "      <td>0.000779</td>\n",
              "      <td>0.227376</td>\n",
              "      <td>0.627794</td>\n",
              "      <td>0.019051</td>\n",
              "      <td>0.717225</td>\n",
              "      <td>0.028731</td>\n",
              "      <td>0.061598</td>\n",
              "    </tr>\n",
              "  </tbody>\n",
              "</table>\n",
              "<p>5 rows × 29 columns</p>\n",
              "</div>\n",
              "      <button class=\"colab-df-convert\" onclick=\"convertToInteractive('df-952afc96-345a-47f6-aa3a-f9a16590f134')\"\n",
              "              title=\"Convert this dataframe to an interactive table.\"\n",
              "              style=\"display:none;\">\n",
              "        \n",
              "  <svg xmlns=\"http://www.w3.org/2000/svg\" height=\"24px\"viewBox=\"0 0 24 24\"\n",
              "       width=\"24px\">\n",
              "    <path d=\"M0 0h24v24H0V0z\" fill=\"none\"/>\n",
              "    <path d=\"M18.56 5.44l.94 2.06.94-2.06 2.06-.94-2.06-.94-.94-2.06-.94 2.06-2.06.94zm-11 1L8.5 8.5l.94-2.06 2.06-.94-2.06-.94L8.5 2.5l-.94 2.06-2.06.94zm10 10l.94 2.06.94-2.06 2.06-.94-2.06-.94-.94-2.06-.94 2.06-2.06.94z\"/><path d=\"M17.41 7.96l-1.37-1.37c-.4-.4-.92-.59-1.43-.59-.52 0-1.04.2-1.43.59L10.3 9.45l-7.72 7.72c-.78.78-.78 2.05 0 2.83L4 21.41c.39.39.9.59 1.41.59.51 0 1.02-.2 1.41-.59l7.78-7.78 2.81-2.81c.8-.78.8-2.07 0-2.86zM5.41 20L4 18.59l7.72-7.72 1.47 1.35L5.41 20z\"/>\n",
              "  </svg>\n",
              "      </button>\n",
              "      \n",
              "  <style>\n",
              "    .colab-df-container {\n",
              "      display:flex;\n",
              "      flex-wrap:wrap;\n",
              "      gap: 12px;\n",
              "    }\n",
              "\n",
              "    .colab-df-convert {\n",
              "      background-color: #E8F0FE;\n",
              "      border: none;\n",
              "      border-radius: 50%;\n",
              "      cursor: pointer;\n",
              "      display: none;\n",
              "      fill: #1967D2;\n",
              "      height: 32px;\n",
              "      padding: 0 0 0 0;\n",
              "      width: 32px;\n",
              "    }\n",
              "\n",
              "    .colab-df-convert:hover {\n",
              "      background-color: #E2EBFA;\n",
              "      box-shadow: 0px 1px 2px rgba(60, 64, 67, 0.3), 0px 1px 3px 1px rgba(60, 64, 67, 0.15);\n",
              "      fill: #174EA6;\n",
              "    }\n",
              "\n",
              "    [theme=dark] .colab-df-convert {\n",
              "      background-color: #3B4455;\n",
              "      fill: #D2E3FC;\n",
              "    }\n",
              "\n",
              "    [theme=dark] .colab-df-convert:hover {\n",
              "      background-color: #434B5C;\n",
              "      box-shadow: 0px 1px 3px 1px rgba(0, 0, 0, 0.15);\n",
              "      filter: drop-shadow(0px 1px 2px rgba(0, 0, 0, 0.3));\n",
              "      fill: #FFFFFF;\n",
              "    }\n",
              "  </style>\n",
              "\n",
              "      <script>\n",
              "        const buttonEl =\n",
              "          document.querySelector('#df-952afc96-345a-47f6-aa3a-f9a16590f134 button.colab-df-convert');\n",
              "        buttonEl.style.display =\n",
              "          google.colab.kernel.accessAllowed ? 'block' : 'none';\n",
              "\n",
              "        async function convertToInteractive(key) {\n",
              "          const element = document.querySelector('#df-952afc96-345a-47f6-aa3a-f9a16590f134');\n",
              "          const dataTable =\n",
              "            await google.colab.kernel.invokeFunction('convertToInteractive',\n",
              "                                                     [key], {});\n",
              "          if (!dataTable) return;\n",
              "\n",
              "          const docLinkHtml = 'Like what you see? Visit the ' +\n",
              "            '<a target=\"_blank\" href=https://colab.research.google.com/notebooks/data_table.ipynb>data table notebook</a>'\n",
              "            + ' to learn more about interactive tables.';\n",
              "          element.innerHTML = '';\n",
              "          dataTable['output_type'] = 'display_data';\n",
              "          await google.colab.output.renderOutput(dataTable, element);\n",
              "          const docLink = document.createElement('div');\n",
              "          docLink.innerHTML = docLinkHtml;\n",
              "          element.appendChild(docLink);\n",
              "        }\n",
              "      </script>\n",
              "    </div>\n",
              "  </div>\n",
              "  "
            ]
          },
          "metadata": {},
          "execution_count": 19
        }
      ]
    },
    {
      "cell_type": "code",
      "source": [
        "#Dropping non asian currencies\n",
        "forex_cleaned_data.drop(columns=['BGN','CZK','DKK','GBP','HUF','PLN','RON','SEK','CHF','NOK','HRK','TRY','CAD','NZD','ZAR','Unnamed: 0'],inplace=True)\n",
        "\n",
        "#Drop date col\n",
        "forex_cleaned_data.drop(columns=['Date'],inplace=True)"
      ],
      "metadata": {
        "id": "2lH4W501u2Gx"
      },
      "execution_count": 20,
      "outputs": []
    },
    {
      "cell_type": "code",
      "source": [
        "forex_cleaned_data.head()"
      ],
      "metadata": {
        "id": "CJCnYXOUvmuV",
        "colab": {
          "base_uri": "https://localhost:8080/",
          "height": 206
        },
        "outputId": "2fc89217-1b11-4f30-ea89-79ccae7a90ac"
      },
      "execution_count": 21,
      "outputs": [
        {
          "output_type": "execute_result",
          "data": {
            "text/plain": [
              "      EUR       JPY       RUB       AUD       CNY       HKD       IDR  \\\n",
              "0  1.0577  0.007815  0.026077  0.706075  0.149735  0.127435  0.000068   \n",
              "1  1.0525  0.007828  0.026077  0.699987  0.148181  0.127431  0.000068   \n",
              "2  1.0523  0.007751  0.026077  0.702470  0.148270  0.127411  0.000068   \n",
              "3  1.0541  0.007733  0.026077  0.703061  0.148676  0.127393  0.000068   \n",
              "4  1.0422  0.007719  0.026077  0.692170  0.147233  0.127390  0.000068   \n",
              "\n",
              "        KRW       MYR       PHP       SGD       THB  \n",
              "0  0.000789  0.227845  0.019168  0.725048  0.029151  \n",
              "1  0.000784  0.227013  0.019088  0.722077  0.028960  \n",
              "2  0.000790  0.227505  0.019106  0.720852  0.028910  \n",
              "3  0.000790  0.228106  0.019118  0.722531  0.028990  \n",
              "4  0.000779  0.227376  0.019051  0.717225  0.028731  "
            ],
            "text/html": [
              "\n",
              "  <div id=\"df-81bb5700-832d-4049-bd0d-d52528f7e064\">\n",
              "    <div class=\"colab-df-container\">\n",
              "      <div>\n",
              "<style scoped>\n",
              "    .dataframe tbody tr th:only-of-type {\n",
              "        vertical-align: middle;\n",
              "    }\n",
              "\n",
              "    .dataframe tbody tr th {\n",
              "        vertical-align: top;\n",
              "    }\n",
              "\n",
              "    .dataframe thead th {\n",
              "        text-align: right;\n",
              "    }\n",
              "</style>\n",
              "<table border=\"1\" class=\"dataframe\">\n",
              "  <thead>\n",
              "    <tr style=\"text-align: right;\">\n",
              "      <th></th>\n",
              "      <th>EUR</th>\n",
              "      <th>JPY</th>\n",
              "      <th>RUB</th>\n",
              "      <th>AUD</th>\n",
              "      <th>CNY</th>\n",
              "      <th>HKD</th>\n",
              "      <th>IDR</th>\n",
              "      <th>KRW</th>\n",
              "      <th>MYR</th>\n",
              "      <th>PHP</th>\n",
              "      <th>SGD</th>\n",
              "      <th>THB</th>\n",
              "    </tr>\n",
              "  </thead>\n",
              "  <tbody>\n",
              "    <tr>\n",
              "      <th>0</th>\n",
              "      <td>1.0577</td>\n",
              "      <td>0.007815</td>\n",
              "      <td>0.026077</td>\n",
              "      <td>0.706075</td>\n",
              "      <td>0.149735</td>\n",
              "      <td>0.127435</td>\n",
              "      <td>0.000068</td>\n",
              "      <td>0.000789</td>\n",
              "      <td>0.227845</td>\n",
              "      <td>0.019168</td>\n",
              "      <td>0.725048</td>\n",
              "      <td>0.029151</td>\n",
              "    </tr>\n",
              "    <tr>\n",
              "      <th>1</th>\n",
              "      <td>1.0525</td>\n",
              "      <td>0.007828</td>\n",
              "      <td>0.026077</td>\n",
              "      <td>0.699987</td>\n",
              "      <td>0.148181</td>\n",
              "      <td>0.127431</td>\n",
              "      <td>0.000068</td>\n",
              "      <td>0.000784</td>\n",
              "      <td>0.227013</td>\n",
              "      <td>0.019088</td>\n",
              "      <td>0.722077</td>\n",
              "      <td>0.028960</td>\n",
              "    </tr>\n",
              "    <tr>\n",
              "      <th>2</th>\n",
              "      <td>1.0523</td>\n",
              "      <td>0.007751</td>\n",
              "      <td>0.026077</td>\n",
              "      <td>0.702470</td>\n",
              "      <td>0.148270</td>\n",
              "      <td>0.127411</td>\n",
              "      <td>0.000068</td>\n",
              "      <td>0.000790</td>\n",
              "      <td>0.227505</td>\n",
              "      <td>0.019106</td>\n",
              "      <td>0.720852</td>\n",
              "      <td>0.028910</td>\n",
              "    </tr>\n",
              "    <tr>\n",
              "      <th>3</th>\n",
              "      <td>1.0541</td>\n",
              "      <td>0.007733</td>\n",
              "      <td>0.026077</td>\n",
              "      <td>0.703061</td>\n",
              "      <td>0.148676</td>\n",
              "      <td>0.127393</td>\n",
              "      <td>0.000068</td>\n",
              "      <td>0.000790</td>\n",
              "      <td>0.228106</td>\n",
              "      <td>0.019118</td>\n",
              "      <td>0.722531</td>\n",
              "      <td>0.028990</td>\n",
              "    </tr>\n",
              "    <tr>\n",
              "      <th>4</th>\n",
              "      <td>1.0422</td>\n",
              "      <td>0.007719</td>\n",
              "      <td>0.026077</td>\n",
              "      <td>0.692170</td>\n",
              "      <td>0.147233</td>\n",
              "      <td>0.127390</td>\n",
              "      <td>0.000068</td>\n",
              "      <td>0.000779</td>\n",
              "      <td>0.227376</td>\n",
              "      <td>0.019051</td>\n",
              "      <td>0.717225</td>\n",
              "      <td>0.028731</td>\n",
              "    </tr>\n",
              "  </tbody>\n",
              "</table>\n",
              "</div>\n",
              "      <button class=\"colab-df-convert\" onclick=\"convertToInteractive('df-81bb5700-832d-4049-bd0d-d52528f7e064')\"\n",
              "              title=\"Convert this dataframe to an interactive table.\"\n",
              "              style=\"display:none;\">\n",
              "        \n",
              "  <svg xmlns=\"http://www.w3.org/2000/svg\" height=\"24px\"viewBox=\"0 0 24 24\"\n",
              "       width=\"24px\">\n",
              "    <path d=\"M0 0h24v24H0V0z\" fill=\"none\"/>\n",
              "    <path d=\"M18.56 5.44l.94 2.06.94-2.06 2.06-.94-2.06-.94-.94-2.06-.94 2.06-2.06.94zm-11 1L8.5 8.5l.94-2.06 2.06-.94-2.06-.94L8.5 2.5l-.94 2.06-2.06.94zm10 10l.94 2.06.94-2.06 2.06-.94-2.06-.94-.94-2.06-.94 2.06-2.06.94z\"/><path d=\"M17.41 7.96l-1.37-1.37c-.4-.4-.92-.59-1.43-.59-.52 0-1.04.2-1.43.59L10.3 9.45l-7.72 7.72c-.78.78-.78 2.05 0 2.83L4 21.41c.39.39.9.59 1.41.59.51 0 1.02-.2 1.41-.59l7.78-7.78 2.81-2.81c.8-.78.8-2.07 0-2.86zM5.41 20L4 18.59l7.72-7.72 1.47 1.35L5.41 20z\"/>\n",
              "  </svg>\n",
              "      </button>\n",
              "      \n",
              "  <style>\n",
              "    .colab-df-container {\n",
              "      display:flex;\n",
              "      flex-wrap:wrap;\n",
              "      gap: 12px;\n",
              "    }\n",
              "\n",
              "    .colab-df-convert {\n",
              "      background-color: #E8F0FE;\n",
              "      border: none;\n",
              "      border-radius: 50%;\n",
              "      cursor: pointer;\n",
              "      display: none;\n",
              "      fill: #1967D2;\n",
              "      height: 32px;\n",
              "      padding: 0 0 0 0;\n",
              "      width: 32px;\n",
              "    }\n",
              "\n",
              "    .colab-df-convert:hover {\n",
              "      background-color: #E2EBFA;\n",
              "      box-shadow: 0px 1px 2px rgba(60, 64, 67, 0.3), 0px 1px 3px 1px rgba(60, 64, 67, 0.15);\n",
              "      fill: #174EA6;\n",
              "    }\n",
              "\n",
              "    [theme=dark] .colab-df-convert {\n",
              "      background-color: #3B4455;\n",
              "      fill: #D2E3FC;\n",
              "    }\n",
              "\n",
              "    [theme=dark] .colab-df-convert:hover {\n",
              "      background-color: #434B5C;\n",
              "      box-shadow: 0px 1px 3px 1px rgba(0, 0, 0, 0.15);\n",
              "      filter: drop-shadow(0px 1px 2px rgba(0, 0, 0, 0.3));\n",
              "      fill: #FFFFFF;\n",
              "    }\n",
              "  </style>\n",
              "\n",
              "      <script>\n",
              "        const buttonEl =\n",
              "          document.querySelector('#df-81bb5700-832d-4049-bd0d-d52528f7e064 button.colab-df-convert');\n",
              "        buttonEl.style.display =\n",
              "          google.colab.kernel.accessAllowed ? 'block' : 'none';\n",
              "\n",
              "        async function convertToInteractive(key) {\n",
              "          const element = document.querySelector('#df-81bb5700-832d-4049-bd0d-d52528f7e064');\n",
              "          const dataTable =\n",
              "            await google.colab.kernel.invokeFunction('convertToInteractive',\n",
              "                                                     [key], {});\n",
              "          if (!dataTable) return;\n",
              "\n",
              "          const docLinkHtml = 'Like what you see? Visit the ' +\n",
              "            '<a target=\"_blank\" href=https://colab.research.google.com/notebooks/data_table.ipynb>data table notebook</a>'\n",
              "            + ' to learn more about interactive tables.';\n",
              "          element.innerHTML = '';\n",
              "          dataTable['output_type'] = 'display_data';\n",
              "          await google.colab.output.renderOutput(dataTable, element);\n",
              "          const docLink = document.createElement('div');\n",
              "          docLink.innerHTML = docLinkHtml;\n",
              "          element.appendChild(docLink);\n",
              "        }\n",
              "      </script>\n",
              "    </div>\n",
              "  </div>\n",
              "  "
            ]
          },
          "metadata": {},
          "execution_count": 21
        }
      ]
    },
    {
      "cell_type": "code",
      "source": [
        "#checking the distribution of EUR forex values with other asian foreign currencies\n",
        "sns.distplot(forex_cleaned_data['EUR'],color='blue')"
      ],
      "metadata": {
        "id": "z9ux_d6F4j9U",
        "outputId": "4b4ce24f-d5bf-49f5-bf17-0ab74e6330d4",
        "colab": {
          "base_uri": "https://localhost:8080/",
          "height": 351
        }
      },
      "execution_count": 22,
      "outputs": [
        {
          "output_type": "stream",
          "name": "stderr",
          "text": [
            "/usr/local/lib/python3.7/dist-packages/seaborn/distributions.py:2619: FutureWarning: `distplot` is a deprecated function and will be removed in a future version. Please adapt your code to use either `displot` (a figure-level function with similar flexibility) or `histplot` (an axes-level function for histograms).\n",
            "  warnings.warn(msg, FutureWarning)\n"
          ]
        },
        {
          "output_type": "execute_result",
          "data": {
            "text/plain": [
              "<matplotlib.axes._subplots.AxesSubplot at 0x7f88d0753bd0>"
            ]
          },
          "metadata": {},
          "execution_count": 22
        },
        {
          "output_type": "display_data",
          "data": {
            "text/plain": [
              "<Figure size 432x288 with 1 Axes>"
            ],
            "image/png": "[encoded data removed]"
          },
          "metadata": {
            "needs_background": "light"
          }
        }
      ]
    },
    {
      "cell_type": "code",
      "source": [
        "#Get the co relation betweeen EUR and other Asian forex currencies \n",
        "correlation_asia = forex_cleaned_data.corr()"
      ],
      "metadata": {
        "id": "ub4PJV-u52Tz"
      },
      "execution_count": 23,
      "outputs": []
    },
    {
      "cell_type": "code",
      "source": [
        "#plot correlation EUR and selected Asian forex currencies \n",
        "plt.figure(figsize = (8,8))\n",
        "sns.heatmap(correlation_asia, cbar=True, square=True, fmt='.1f',annot=True, annot_kws={'size':8}, cmap='YlGnBu')"
      ],
      "metadata": {
        "colab": {
          "base_uri": "https://localhost:8080/",
          "height": 487
        },
        "id": "DSST7ROn6Aj3",
        "outputId": "3717ce28-2b1d-4113-baf9-e856fc6ee044"
      },
      "execution_count": 24,
      "outputs": [
        {
          "output_type": "execute_result",
          "data": {
            "text/plain": [
              "<matplotlib.axes._subplots.AxesSubplot at 0x7f88d0a4e810>"
            ]
          },
          "metadata": {},
          "execution_count": 24
        },
        {
          "output_type": "display_data",
          "data": {
            "text/plain": [
              "<Figure size 576x576 with 2 Axes>"
            ],
            "image/png": "[encoded data removed]"
          },
          "metadata": {
            "needs_background": "light"
          }
        }
      ]
    },
    {
      "cell_type": "code",
      "source": [
        "# correlation values of EUR and other Asian forex currencies \n",
        "print(correlation_asia['EUR'])"
      ],
      "metadata": {
        "id": "7Ih112cS3af3",
        "outputId": "d339d145-cdf1-4c03-ce4d-291ef22cc865",
        "colab": {
          "base_uri": "https://localhost:8080/"
        }
      },
      "execution_count": 25,
      "outputs": [
        {
          "output_type": "stream",
          "name": "stdout",
          "text": [
            "EUR    1.000000\n",
            "JPY    0.549708\n",
            "RUB    0.547798\n",
            "AUD    0.827133\n",
            "CNY   -0.022448\n",
            "HKD    0.228352\n",
            "IDR    0.514219\n",
            "KRW    0.509091\n",
            "MYR    0.535417\n",
            "PHP    0.387724\n",
            "SGD    0.555692\n",
            "THB    0.160401\n",
            "Name: EUR, dtype: float64\n"
          ]
        }
      ]
    },
    {
      "cell_type": "code",
      "source": [
        "#defining  variables\n",
        "X_asia = forex_cleaned_data.drop(['EUR'],axis=1)\n",
        "Y_asia = forex_cleaned_data['EUR']"
      ],
      "metadata": {
        "id": "3tnkrE8A4rG9"
      },
      "execution_count": 26,
      "outputs": []
    },
    {
      "cell_type": "code",
      "source": [
        "print(X_asia)"
      ],
      "metadata": {
        "id": "I6QPVpce5H3-",
        "outputId": "db42c62b-a33b-4275-fbbc-b4306d9eb806",
        "colab": {
          "base_uri": "https://localhost:8080/"
        }
      },
      "execution_count": 27,
      "outputs": [
        {
          "output_type": "stream",
          "name": "stdout",
          "text": [
            "           JPY       RUB       AUD       CNY       HKD       IDR       KRW  \\\n",
            "0     0.007815  0.026077  0.706075  0.149735  0.127435  0.000068  0.000789   \n",
            "1     0.007828  0.026077  0.699987  0.148181  0.127431  0.000068  0.000784   \n",
            "2     0.007751  0.026077  0.702470  0.148270  0.127411  0.000068  0.000790   \n",
            "3     0.007733  0.026077  0.703061  0.148676  0.127393  0.000068  0.000790   \n",
            "4     0.007719  0.026077  0.692170  0.147233  0.127390  0.000068  0.000779   \n",
            "...        ...       ...       ...       ...       ...       ...       ...   \n",
            "5983  0.008962  0.026077  0.633435  0.148168  0.129111  0.000090  0.000853   \n",
            "5984  0.008987  0.026077  0.629642  0.148168  0.129057  0.000090  0.000870   \n",
            "5985  0.008935  0.026077  0.623964  0.148168  0.129030  0.000090  0.000864   \n",
            "5986  0.009003  0.026077  0.622361  0.148168  0.129077  0.000090  0.000859   \n",
            "5987  0.008816  0.026077  0.617225  0.148168  0.129079  0.000090  0.000843   \n",
            "\n",
            "           MYR       PHP       SGD       THB  \n",
            "0     0.227845  0.019168  0.725048  0.029151  \n",
            "1     0.227013  0.019088  0.722077  0.028960  \n",
            "2     0.227505  0.019106  0.720852  0.028910  \n",
            "3     0.228106  0.019118  0.722531  0.028990  \n",
            "4     0.227376  0.019051  0.717225  0.028731  \n",
            "...        ...       ...       ...       ...  \n",
            "5983  0.275643  0.021162  0.596765  0.030358  \n",
            "5984  0.275643  0.021162  0.598477  0.030358  \n",
            "5985  0.275643  0.021162  0.596122  0.030358  \n",
            "5986  0.275643  0.021162  0.599847  0.030358  \n",
            "5987  0.275643  0.021162  0.602895  0.030358  \n",
            "\n",
            "[5988 rows x 11 columns]\n"
          ]
        }
      ]
    },
    {
      "cell_type": "code",
      "source": [
        "print(Y_asia)"
      ],
      "metadata": {
        "id": "xP0tS8kf7lAa",
        "outputId": "e016e3e3-8492-42a9-dda9-f2b40570cff3",
        "colab": {
          "base_uri": "https://localhost:8080/"
        }
      },
      "execution_count": 28,
      "outputs": [
        {
          "output_type": "stream",
          "name": "stdout",
          "text": [
            "0       1.0577\n",
            "1       1.0525\n",
            "2       1.0523\n",
            "3       1.0541\n",
            "4       1.0422\n",
            "         ...  \n",
            "5983    1.1659\n",
            "5984    1.1632\n",
            "5985    1.1743\n",
            "5986    1.1790\n",
            "5987    1.1789\n",
            "Name: EUR, Length: 5988, dtype: float64\n"
          ]
        }
      ]
    },
    {
      "cell_type": "code",
      "source": [
        "#Split train and testing data sets\n",
        "X_asia_train, X_asia_test, Y_asia_train, Y_asia_test = train_test_split(X_asia, Y_asia, test_size = 0.2, random_state=2)"
      ],
      "metadata": {
        "id": "K11lOuWx7n1S"
      },
      "execution_count": 29,
      "outputs": []
    },
    {
      "cell_type": "code",
      "source": [
        "#Random forest regressor\n",
        "regressor = RandomForestRegressor(n_estimators=100)"
      ],
      "metadata": {
        "id": "61axnayY8kdH"
      },
      "execution_count": 30,
      "outputs": []
    },
    {
      "cell_type": "code",
      "source": [
        "#training the model using asian forex to predict EUR\n",
        "regressor.fit(X_asia_train,Y_asia_train)"
      ],
      "metadata": {
        "id": "Ng1ybZ_68t2s",
        "outputId": "c59ba580-6661-406e-983b-9210a199d05b",
        "colab": {
          "base_uri": "https://localhost:8080/"
        }
      },
      "execution_count": 31,
      "outputs": [
        {
          "output_type": "execute_result",
          "data": {
            "text/plain": [
              "RandomForestRegressor()"
            ]
          },
          "metadata": {},
          "execution_count": 31
        }
      ]
    },
    {
      "cell_type": "code",
      "source": [
        "#test prediction using asian forex currencies\n",
        "test_data_prediction_asia = regressor.predict(X_asia_test)"
      ],
      "metadata": {
        "id": "TKEGtrpL9EH0"
      },
      "execution_count": 32,
      "outputs": []
    },
    {
      "cell_type": "code",
      "source": [
        "print(test_data_prediction_asia)"
      ],
      "metadata": {
        "id": "AM5K75hw9Qgr",
        "outputId": "6d235477-dea1-43e3-e597-67f7d790f12d",
        "colab": {
          "base_uri": "https://localhost:8080/"
        }
      },
      "execution_count": 33,
      "outputs": [
        {
          "output_type": "stream",
          "name": "stdout",
          "text": [
            "[1.326307 0.977121 1.311518 ... 1.570269 1.365495 1.289701]\n"
          ]
        }
      ]
    },
    {
      "cell_type": "code",
      "source": [
        "#calculate R squared error \n",
        "error_score = metrics.r2_score(Y_asia_test, test_data_prediction_asia)\n",
        "print(\"R squared error : \", error_score)"
      ],
      "metadata": {
        "id": "U7w16plj9qbC",
        "outputId": "20d02310-f029-40b0-849e-2734694ba44f",
        "colab": {
          "base_uri": "https://localhost:8080/"
        }
      },
      "execution_count": 34,
      "outputs": [
        {
          "output_type": "stream",
          "name": "stdout",
          "text": [
            "R squared error :  0.9963131338518798\n"
          ]
        }
      ]
    },
    {
      "cell_type": "code",
      "source": [
        "# Convert to a list\n",
        "Y_asia_test=list(Y_asia_test)"
      ],
      "metadata": {
        "id": "LwkbJOim96no"
      },
      "execution_count": 35,
      "outputs": []
    },
    {
      "cell_type": "code",
      "source": [
        "#plotting actual Asia/EUR values\n",
        "plt.plot(Y_asia_test, color='blue', label = 'Actual Value')\n",
        "plt.title('Actual Price Fluctuation in Asia/EUR')\n",
        "plt.xlabel('Number of values')\n",
        "plt.ylabel('EUR')\n",
        "plt.legend()\n",
        "plt.show()"
      ],
      "metadata": {
        "colab": {
          "base_uri": "https://localhost:8080/",
          "height": 295
        },
        "id": "A0t7zxr-_bMH",
        "outputId": "d08a1a28-3bfa-4e08-e85a-a48271a2f182"
      },
      "execution_count": 36,
      "outputs": [
        {
          "output_type": "display_data",
          "data": {
            "text/plain": [
              "<Figure size 432x288 with 1 Axes>"
            ],
            "image/png": "[encoded data removed]"
          },
          "metadata": {
            "needs_background": "light"
          }
        }
      ]
    },
    {
      "cell_type": "code",
      "source": [
        "#plotting predicted Asia/EUR \n",
        "plt.figure(figsize=(12,8))\n",
        "plt.plot(Y_asia_test, color='blue', label = 'Actual Value')\n",
        "plt.plot(test_data_prediction_asia, color='green', label='Predicted Value')\n",
        "plt.title('Actual Price vs Predicted Price')\n",
        "plt.xlabel('Number of values')\n",
        "plt.ylabel('EUR')\n",
        "plt.legend()\n",
        "plt.show()"
      ],
      "metadata": {
        "colab": {
          "base_uri": "https://localhost:8080/",
          "height": 513
        },
        "id": "1kUiOdE5ARbP",
        "outputId": "4c1fa3af-8a6d-4f5d-bfd0-10fd3662d684"
      },
      "execution_count": 37,
      "outputs": [
        {
          "output_type": "display_data",
          "data": {
            "text/plain": [
              "<Figure size 864x576 with 1 Axes>"
            ],
            "image/png": "[encoded data removed]"
          },
          "metadata": {
            "needs_background": "light"
          }
        }
      ]
    },
    {
      "cell_type": "markdown",
      "source": [
        "Predicting EUR against with other european curruncies."
      ],
      "metadata": {
        "id": "88nU2OjbE8Re"
      }
    },
    {
      "cell_type": "code",
      "source": [
        "#load cleaned data \n",
        "forex_cleaned_data = pd.read_csv('/content/drive/MyDrive/ECB_FX_USD-quote-cleaned.csv')\n",
        "forex_cleaned_data.head()"
      ],
      "metadata": {
        "id": "Vi8aOEV2AmOm",
        "colab": {
          "base_uri": "https://localhost:8080/",
          "height": 404
        },
        "outputId": "9d2f63d4-2c83-42a1-f123-69409fa99b16"
      },
      "execution_count": 38,
      "outputs": [
        {
          "output_type": "execute_result",
          "data": {
            "text/plain": [
              "   Unnamed: 0        Date     EUR       JPY       BGN       CZK       DKK  \\\n",
              "0           1  2022-05-20  1.0577  0.007815  0.540802  0.042874  0.142118   \n",
              "1           2  2022-05-19  1.0525  0.007828  0.538143  0.042611  0.141421   \n",
              "2           3  2022-05-18  1.0523  0.007751  0.538041  0.042695  0.141402   \n",
              "3           4  2022-05-17  1.0541  0.007733  0.538961  0.042655  0.141653   \n",
              "4           5  2022-05-16  1.0422  0.007719  0.532877  0.042177  0.140047   \n",
              "\n",
              "        GBP       HUF       PLN  ...       CNY       HKD       IDR       KRW  \\\n",
              "0  1.246994  0.002762  0.228125  ...  0.149735  0.127435  0.000068  0.000789   \n",
              "1  1.242210  0.002728  0.226720  ...  0.148181  0.127431  0.000068  0.000784   \n",
              "2  1.242825  0.002748  0.226579  ...  0.148270  0.127411  0.000068  0.000790   \n",
              "3  1.248934  0.002729  0.226747  ...  0.148676  0.127393  0.000068  0.000790   \n",
              "4  1.225469  0.002701  0.223289  ...  0.147233  0.127390  0.000068  0.000779   \n",
              "\n",
              "        MYR       NZD       PHP       SGD       THB       ZAR  \n",
              "0  0.227845  0.640332  0.019168  0.725048  0.029151  0.063286  \n",
              "1  0.227013  0.635913  0.019088  0.722077  0.028960  0.062532  \n",
              "2  0.227505  0.635908  0.019106  0.720852  0.028910  0.062894  \n",
              "3  0.228106  0.636495  0.019118  0.722531  0.028990  0.062580  \n",
              "4  0.227376  0.627794  0.019051  0.717225  0.028731  0.061598  \n",
              "\n",
              "[5 rows x 29 columns]"
            ],
            "text/html": [
              "\n",
              "  <div id=\"df-1bed8d54-942a-4999-a2e0-2a89aee80e84\">\n",
              "    <div class=\"colab-df-container\">\n",
              "      <div>\n",
              "<style scoped>\n",
              "    .dataframe tbody tr th:only-of-type {\n",
              "        vertical-align: middle;\n",
              "    }\n",
              "\n",
              "    .dataframe tbody tr th {\n",
              "        vertical-align: top;\n",
              "    }\n",
              "\n",
              "    .dataframe thead th {\n",
              "        text-align: right;\n",
              "    }\n",
              "</style>\n",
              "<table border=\"1\" class=\"dataframe\">\n",
              "  <thead>\n",
              "    <tr style=\"text-align: right;\">\n",
              "      <th></th>\n",
              "      <th>Unnamed: 0</th>\n",
              "      <th>Date</th>\n",
              "      <th>EUR</th>\n",
              "      <th>JPY</th>\n",
              "      <th>BGN</th>\n",
              "      <th>CZK</th>\n",
              "      <th>DKK</th>\n",
              "      <th>GBP</th>\n",
              "      <th>HUF</th>\n",
              "      <th>PLN</th>\n",
              "      <th>...</th>\n",
              "      <th>CNY</th>\n",
              "      <th>HKD</th>\n",
              "      <th>IDR</th>\n",
              "      <th>KRW</th>\n",
              "      <th>MYR</th>\n",
              "      <th>NZD</th>\n",
              "      <th>PHP</th>\n",
              "      <th>SGD</th>\n",
              "      <th>THB</th>\n",
              "      <th>ZAR</th>\n",
              "    </tr>\n",
              "  </thead>\n",
              "  <tbody>\n",
              "    <tr>\n",
              "      <th>0</th>\n",
              "      <td>1</td>\n",
              "      <td>2022-05-20</td>\n",
              "      <td>1.0577</td>\n",
              "      <td>0.007815</td>\n",
              "      <td>0.540802</td>\n",
              "      <td>0.042874</td>\n",
              "      <td>0.142118</td>\n",
              "      <td>1.246994</td>\n",
              "      <td>0.002762</td>\n",
              "      <td>0.228125</td>\n",
              "      <td>...</td>\n",
              "      <td>0.149735</td>\n",
              "      <td>0.127435</td>\n",
              "      <td>0.000068</td>\n",
              "      <td>0.000789</td>\n",
              "      <td>0.227845</td>\n",
              "      <td>0.640332</td>\n",
              "      <td>0.019168</td>\n",
              "      <td>0.725048</td>\n",
              "      <td>0.029151</td>\n",
              "      <td>0.063286</td>\n",
              "    </tr>\n",
              "    <tr>\n",
              "      <th>1</th>\n",
              "      <td>2</td>\n",
              "      <td>2022-05-19</td>\n",
              "      <td>1.0525</td>\n",
              "      <td>0.007828</td>\n",
              "      <td>0.538143</td>\n",
              "      <td>0.042611</td>\n",
              "      <td>0.141421</td>\n",
              "      <td>1.242210</td>\n",
              "      <td>0.002728</td>\n",
              "      <td>0.226720</td>\n",
              "      <td>...</td>\n",
              "      <td>0.148181</td>\n",
              "      <td>0.127431</td>\n",
              "      <td>0.000068</td>\n",
              "      <td>0.000784</td>\n",
              "      <td>0.227013</td>\n",
              "      <td>0.635913</td>\n",
              "      <td>0.019088</td>\n",
              "      <td>0.722077</td>\n",
              "      <td>0.028960</td>\n",
              "      <td>0.062532</td>\n",
              "    </tr>\n",
              "    <tr>\n",
              "      <th>2</th>\n",
              "      <td>3</td>\n",
              "      <td>2022-05-18</td>\n",
              "      <td>1.0523</td>\n",
              "      <td>0.007751</td>\n",
              "      <td>0.538041</td>\n",
              "      <td>0.042695</td>\n",
              "      <td>0.141402</td>\n",
              "      <td>1.242825</td>\n",
              "      <td>0.002748</td>\n",
              "      <td>0.226579</td>\n",
              "      <td>...</td>\n",
              "      <td>0.148270</td>\n",
              "      <td>0.127411</td>\n",
              "      <td>0.000068</td>\n",
              "      <td>0.000790</td>\n",
              "      <td>0.227505</td>\n",
              "      <td>0.635908</td>\n",
              "      <td>0.019106</td>\n",
              "      <td>0.720852</td>\n",
              "      <td>0.028910</td>\n",
              "      <td>0.062894</td>\n",
              "    </tr>\n",
              "    <tr>\n",
              "      <th>3</th>\n",
              "      <td>4</td>\n",
              "      <td>2022-05-17</td>\n",
              "      <td>1.0541</td>\n",
              "      <td>0.007733</td>\n",
              "      <td>0.538961</td>\n",
              "      <td>0.042655</td>\n",
              "      <td>0.141653</td>\n",
              "      <td>1.248934</td>\n",
              "      <td>0.002729</td>\n",
              "      <td>0.226747</td>\n",
              "      <td>...</td>\n",
              "      <td>0.148676</td>\n",
              "      <td>0.127393</td>\n",
              "      <td>0.000068</td>\n",
              "      <td>0.000790</td>\n",
              "      <td>0.228106</td>\n",
              "      <td>0.636495</td>\n",
              "      <td>0.019118</td>\n",
              "      <td>0.722531</td>\n",
              "      <td>0.028990</td>\n",
              "      <td>0.062580</td>\n",
              "    </tr>\n",
              "    <tr>\n",
              "      <th>4</th>\n",
              "      <td>5</td>\n",
              "      <td>2022-05-16</td>\n",
              "      <td>1.0422</td>\n",
              "      <td>0.007719</td>\n",
              "      <td>0.532877</td>\n",
              "      <td>0.042177</td>\n",
              "      <td>0.140047</td>\n",
              "      <td>1.225469</td>\n",
              "      <td>0.002701</td>\n",
              "      <td>0.223289</td>\n",
              "      <td>...</td>\n",
              "      <td>0.147233</td>\n",
              "      <td>0.127390</td>\n",
              "      <td>0.000068</td>\n",
              "      <td>0.000779</td>\n",
              "      <td>0.227376</td>\n",
              "      <td>0.627794</td>\n",
              "      <td>0.019051</td>\n",
              "      <td>0.717225</td>\n",
              "      <td>0.028731</td>\n",
              "      <td>0.061598</td>\n",
              "    </tr>\n",
              "  </tbody>\n",
              "</table>\n",
              "<p>5 rows × 29 columns</p>\n",
              "</div>\n",
              "      <button class=\"colab-df-convert\" onclick=\"convertToInteractive('df-1bed8d54-942a-4999-a2e0-2a89aee80e84')\"\n",
              "              title=\"Convert this dataframe to an interactive table.\"\n",
              "              style=\"display:none;\">\n",
              "        \n",
              "  <svg xmlns=\"http://www.w3.org/2000/svg\" height=\"24px\"viewBox=\"0 0 24 24\"\n",
              "       width=\"24px\">\n",
              "    <path d=\"M0 0h24v24H0V0z\" fill=\"none\"/>\n",
              "    <path d=\"M18.56 5.44l.94 2.06.94-2.06 2.06-.94-2.06-.94-.94-2.06-.94 2.06-2.06.94zm-11 1L8.5 8.5l.94-2.06 2.06-.94-2.06-.94L8.5 2.5l-.94 2.06-2.06.94zm10 10l.94 2.06.94-2.06 2.06-.94-2.06-.94-.94-2.06-.94 2.06-2.06.94z\"/><path d=\"M17.41 7.96l-1.37-1.37c-.4-.4-.92-.59-1.43-.59-.52 0-1.04.2-1.43.59L10.3 9.45l-7.72 7.72c-.78.78-.78 2.05 0 2.83L4 21.41c.39.39.9.59 1.41.59.51 0 1.02-.2 1.41-.59l7.78-7.78 2.81-2.81c.8-.78.8-2.07 0-2.86zM5.41 20L4 18.59l7.72-7.72 1.47 1.35L5.41 20z\"/>\n",
              "  </svg>\n",
              "      </button>\n",
              "      \n",
              "  <style>\n",
              "    .colab-df-container {\n",
              "      display:flex;\n",
              "      flex-wrap:wrap;\n",
              "      gap: 12px;\n",
              "    }\n",
              "\n",
              "    .colab-df-convert {\n",
              "      background-color: #E8F0FE;\n",
              "      border: none;\n",
              "      border-radius: 50%;\n",
              "      cursor: pointer;\n",
              "      display: none;\n",
              "      fill: #1967D2;\n",
              "      height: 32px;\n",
              "      padding: 0 0 0 0;\n",
              "      width: 32px;\n",
              "    }\n",
              "\n",
              "    .colab-df-convert:hover {\n",
              "      background-color: #E2EBFA;\n",
              "      box-shadow: 0px 1px 2px rgba(60, 64, 67, 0.3), 0px 1px 3px 1px rgba(60, 64, 67, 0.15);\n",
              "      fill: #174EA6;\n",
              "    }\n",
              "\n",
              "    [theme=dark] .colab-df-convert {\n",
              "      background-color: #3B4455;\n",
              "      fill: #D2E3FC;\n",
              "    }\n",
              "\n",
              "    [theme=dark] .colab-df-convert:hover {\n",
              "      background-color: #434B5C;\n",
              "      box-shadow: 0px 1px 3px 1px rgba(0, 0, 0, 0.15);\n",
              "      filter: drop-shadow(0px 1px 2px rgba(0, 0, 0, 0.3));\n",
              "      fill: #FFFFFF;\n",
              "    }\n",
              "  </style>\n",
              "\n",
              "      <script>\n",
              "        const buttonEl =\n",
              "          document.querySelector('#df-1bed8d54-942a-4999-a2e0-2a89aee80e84 button.colab-df-convert');\n",
              "        buttonEl.style.display =\n",
              "          google.colab.kernel.accessAllowed ? 'block' : 'none';\n",
              "\n",
              "        async function convertToInteractive(key) {\n",
              "          const element = document.querySelector('#df-1bed8d54-942a-4999-a2e0-2a89aee80e84');\n",
              "          const dataTable =\n",
              "            await google.colab.kernel.invokeFunction('convertToInteractive',\n",
              "                                                     [key], {});\n",
              "          if (!dataTable) return;\n",
              "\n",
              "          const docLinkHtml = 'Like what you see? Visit the ' +\n",
              "            '<a target=\"_blank\" href=https://colab.research.google.com/notebooks/data_table.ipynb>data table notebook</a>'\n",
              "            + ' to learn more about interactive tables.';\n",
              "          element.innerHTML = '';\n",
              "          dataTable['output_type'] = 'display_data';\n",
              "          await google.colab.output.renderOutput(dataTable, element);\n",
              "          const docLink = document.createElement('div');\n",
              "          docLink.innerHTML = docLinkHtml;\n",
              "          element.appendChild(docLink);\n",
              "        }\n",
              "      </script>\n",
              "    </div>\n",
              "  </div>\n",
              "  "
            ]
          },
          "metadata": {},
          "execution_count": 38
        }
      ]
    },
    {
      "cell_type": "code",
      "source": [
        "#Drop other colums except european curruncies\n",
        "forex_euro_data = forex_cleaned_data.filter(['EUR','CZK','DKK','GBP','HUF','PLN','RON','SEK','CHF','NOK','HRK','TRY'])\n",
        "forex_euro_data.head()"
      ],
      "metadata": {
        "colab": {
          "base_uri": "https://localhost:8080/",
          "height": 206
        },
        "id": "6nAI_m6zFWnh",
        "outputId": "4f616db7-a1b0-4c2f-ff9d-e844578a54c2"
      },
      "execution_count": 39,
      "outputs": [
        {
          "output_type": "execute_result",
          "data": {
            "text/plain": [
              "      EUR       CZK       DKK       GBP       HUF       PLN       RON  \\\n",
              "0  1.0577  0.042874  0.142118  1.246994  0.002762  0.228125  0.213776   \n",
              "1  1.0525  0.042611  0.141421  1.242210  0.002728  0.226720  0.212738   \n",
              "2  1.0523  0.042695  0.141402  1.242825  0.002748  0.226579  0.212702   \n",
              "3  1.0541  0.042655  0.141653  1.248934  0.002729  0.226747  0.213044   \n",
              "4  1.0422  0.042177  0.140047  1.225469  0.002701  0.223289  0.210677   \n",
              "\n",
              "        SEK       CHF       NOK       HRK       TRY  \n",
              "0  0.100815  1.028891  0.103070  0.140400  0.062883  \n",
              "1  0.100145  1.025329  0.102083  0.139598  0.062635  \n",
              "2  0.100530  1.003529  0.103040  0.139655  0.062707  \n",
              "3  0.100974  1.008033  0.103567  0.140089  0.063490  \n",
              "4  0.099278  0.994561  0.101988  0.138544  0.063891  "
            ],
            "text/html": [
              "\n",
              "  <div id=\"df-08c4905f-7706-4339-a790-74a0b3bd3517\">\n",
              "    <div class=\"colab-df-container\">\n",
              "      <div>\n",
              "<style scoped>\n",
              "    .dataframe tbody tr th:only-of-type {\n",
              "        vertical-align: middle;\n",
              "    }\n",
              "\n",
              "    .dataframe tbody tr th {\n",
              "        vertical-align: top;\n",
              "    }\n",
              "\n",
              "    .dataframe thead th {\n",
              "        text-align: right;\n",
              "    }\n",
              "</style>\n",
              "<table border=\"1\" class=\"dataframe\">\n",
              "  <thead>\n",
              "    <tr style=\"text-align: right;\">\n",
              "      <th></th>\n",
              "      <th>EUR</th>\n",
              "      <th>CZK</th>\n",
              "      <th>DKK</th>\n",
              "      <th>GBP</th>\n",
              "      <th>HUF</th>\n",
              "      <th>PLN</th>\n",
              "      <th>RON</th>\n",
              "      <th>SEK</th>\n",
              "      <th>CHF</th>\n",
              "      <th>NOK</th>\n",
              "      <th>HRK</th>\n",
              "      <th>TRY</th>\n",
              "    </tr>\n",
              "  </thead>\n",
              "  <tbody>\n",
              "    <tr>\n",
              "      <th>0</th>\n",
              "      <td>1.0577</td>\n",
              "      <td>0.042874</td>\n",
              "      <td>0.142118</td>\n",
              "      <td>1.246994</td>\n",
              "      <td>0.002762</td>\n",
              "      <td>0.228125</td>\n",
              "      <td>0.213776</td>\n",
              "      <td>0.100815</td>\n",
              "      <td>1.028891</td>\n",
              "      <td>0.103070</td>\n",
              "      <td>0.140400</td>\n",
              "      <td>0.062883</td>\n",
              "    </tr>\n",
              "    <tr>\n",
              "      <th>1</th>\n",
              "      <td>1.0525</td>\n",
              "      <td>0.042611</td>\n",
              "      <td>0.141421</td>\n",
              "      <td>1.242210</td>\n",
              "      <td>0.002728</td>\n",
              "      <td>0.226720</td>\n",
              "      <td>0.212738</td>\n",
              "      <td>0.100145</td>\n",
              "      <td>1.025329</td>\n",
              "      <td>0.102083</td>\n",
              "      <td>0.139598</td>\n",
              "      <td>0.062635</td>\n",
              "    </tr>\n",
              "    <tr>\n",
              "      <th>2</th>\n",
              "      <td>1.0523</td>\n",
              "      <td>0.042695</td>\n",
              "      <td>0.141402</td>\n",
              "      <td>1.242825</td>\n",
              "      <td>0.002748</td>\n",
              "      <td>0.226579</td>\n",
              "      <td>0.212702</td>\n",
              "      <td>0.100530</td>\n",
              "      <td>1.003529</td>\n",
              "      <td>0.103040</td>\n",
              "      <td>0.139655</td>\n",
              "      <td>0.062707</td>\n",
              "    </tr>\n",
              "    <tr>\n",
              "      <th>3</th>\n",
              "      <td>1.0541</td>\n",
              "      <td>0.042655</td>\n",
              "      <td>0.141653</td>\n",
              "      <td>1.248934</td>\n",
              "      <td>0.002729</td>\n",
              "      <td>0.226747</td>\n",
              "      <td>0.213044</td>\n",
              "      <td>0.100974</td>\n",
              "      <td>1.008033</td>\n",
              "      <td>0.103567</td>\n",
              "      <td>0.140089</td>\n",
              "      <td>0.063490</td>\n",
              "    </tr>\n",
              "    <tr>\n",
              "      <th>4</th>\n",
              "      <td>1.0422</td>\n",
              "      <td>0.042177</td>\n",
              "      <td>0.140047</td>\n",
              "      <td>1.225469</td>\n",
              "      <td>0.002701</td>\n",
              "      <td>0.223289</td>\n",
              "      <td>0.210677</td>\n",
              "      <td>0.099278</td>\n",
              "      <td>0.994561</td>\n",
              "      <td>0.101988</td>\n",
              "      <td>0.138544</td>\n",
              "      <td>0.063891</td>\n",
              "    </tr>\n",
              "  </tbody>\n",
              "</table>\n",
              "</div>\n",
              "      <button class=\"colab-df-convert\" onclick=\"convertToInteractive('df-08c4905f-7706-4339-a790-74a0b3bd3517')\"\n",
              "              title=\"Convert this dataframe to an interactive table.\"\n",
              "              style=\"display:none;\">\n",
              "        \n",
              "  <svg xmlns=\"http://www.w3.org/2000/svg\" height=\"24px\"viewBox=\"0 0 24 24\"\n",
              "       width=\"24px\">\n",
              "    <path d=\"M0 0h24v24H0V0z\" fill=\"none\"/>\n",
              "    <path d=\"M18.56 5.44l.94 2.06.94-2.06 2.06-.94-2.06-.94-.94-2.06-.94 2.06-2.06.94zm-11 1L8.5 8.5l.94-2.06 2.06-.94-2.06-.94L8.5 2.5l-.94 2.06-2.06.94zm10 10l.94 2.06.94-2.06 2.06-.94-2.06-.94-.94-2.06-.94 2.06-2.06.94z\"/><path d=\"M17.41 7.96l-1.37-1.37c-.4-.4-.92-.59-1.43-.59-.52 0-1.04.2-1.43.59L10.3 9.45l-7.72 7.72c-.78.78-.78 2.05 0 2.83L4 21.41c.39.39.9.59 1.41.59.51 0 1.02-.2 1.41-.59l7.78-7.78 2.81-2.81c.8-.78.8-2.07 0-2.86zM5.41 20L4 18.59l7.72-7.72 1.47 1.35L5.41 20z\"/>\n",
              "  </svg>\n",
              "      </button>\n",
              "      \n",
              "  <style>\n",
              "    .colab-df-container {\n",
              "      display:flex;\n",
              "      flex-wrap:wrap;\n",
              "      gap: 12px;\n",
              "    }\n",
              "\n",
              "    .colab-df-convert {\n",
              "      background-color: #E8F0FE;\n",
              "      border: none;\n",
              "      border-radius: 50%;\n",
              "      cursor: pointer;\n",
              "      display: none;\n",
              "      fill: #1967D2;\n",
              "      height: 32px;\n",
              "      padding: 0 0 0 0;\n",
              "      width: 32px;\n",
              "    }\n",
              "\n",
              "    .colab-df-convert:hover {\n",
              "      background-color: #E2EBFA;\n",
              "      box-shadow: 0px 1px 2px rgba(60, 64, 67, 0.3), 0px 1px 3px 1px rgba(60, 64, 67, 0.15);\n",
              "      fill: #174EA6;\n",
              "    }\n",
              "\n",
              "    [theme=dark] .colab-df-convert {\n",
              "      background-color: #3B4455;\n",
              "      fill: #D2E3FC;\n",
              "    }\n",
              "\n",
              "    [theme=dark] .colab-df-convert:hover {\n",
              "      background-color: #434B5C;\n",
              "      box-shadow: 0px 1px 3px 1px rgba(0, 0, 0, 0.15);\n",
              "      filter: drop-shadow(0px 1px 2px rgba(0, 0, 0, 0.3));\n",
              "      fill: #FFFFFF;\n",
              "    }\n",
              "  </style>\n",
              "\n",
              "      <script>\n",
              "        const buttonEl =\n",
              "          document.querySelector('#df-08c4905f-7706-4339-a790-74a0b3bd3517 button.colab-df-convert');\n",
              "        buttonEl.style.display =\n",
              "          google.colab.kernel.accessAllowed ? 'block' : 'none';\n",
              "\n",
              "        async function convertToInteractive(key) {\n",
              "          const element = document.querySelector('#df-08c4905f-7706-4339-a790-74a0b3bd3517');\n",
              "          const dataTable =\n",
              "            await google.colab.kernel.invokeFunction('convertToInteractive',\n",
              "                                                     [key], {});\n",
              "          if (!dataTable) return;\n",
              "\n",
              "          const docLinkHtml = 'Like what you see? Visit the ' +\n",
              "            '<a target=\"_blank\" href=https://colab.research.google.com/notebooks/data_table.ipynb>data table notebook</a>'\n",
              "            + ' to learn more about interactive tables.';\n",
              "          element.innerHTML = '';\n",
              "          dataTable['output_type'] = 'display_data';\n",
              "          await google.colab.output.renderOutput(dataTable, element);\n",
              "          const docLink = document.createElement('div');\n",
              "          docLink.innerHTML = docLinkHtml;\n",
              "          element.appendChild(docLink);\n",
              "        }\n",
              "      </script>\n",
              "    </div>\n",
              "  </div>\n",
              "  "
            ]
          },
          "metadata": {},
          "execution_count": 39
        }
      ]
    },
    {
      "cell_type": "code",
      "source": [
        "#checking the distribution of EUR forex values with other european foreign currencies\n",
        "sns.distplot(forex_euro_data['EUR'],color='red')"
      ],
      "metadata": {
        "colab": {
          "base_uri": "https://localhost:8080/",
          "height": 351
        },
        "id": "ZkS9B_QrHE_O",
        "outputId": "22143028-a6d6-4cb3-9f0e-be36caec3cee"
      },
      "execution_count": 40,
      "outputs": [
        {
          "output_type": "stream",
          "name": "stderr",
          "text": [
            "/usr/local/lib/python3.7/dist-packages/seaborn/distributions.py:2619: FutureWarning: `distplot` is a deprecated function and will be removed in a future version. Please adapt your code to use either `displot` (a figure-level function with similar flexibility) or `histplot` (an axes-level function for histograms).\n",
            "  warnings.warn(msg, FutureWarning)\n"
          ]
        },
        {
          "output_type": "execute_result",
          "data": {
            "text/plain": [
              "<matplotlib.axes._subplots.AxesSubplot at 0x7f88d0b1b0d0>"
            ]
          },
          "metadata": {},
          "execution_count": 40
        },
        {
          "output_type": "display_data",
          "data": {
            "text/plain": [
              "<Figure size 432x288 with 1 Axes>"
            ],
            "image/png": "[encoded data removed]"
          },
          "metadata": {
            "needs_background": "light"
          }
        }
      ]
    },
    {
      "cell_type": "code",
      "source": [
        "#Get the co relation betweeen EUR and other European forex currencies \n",
        "correlation_europe = forex_euro_data.corr()"
      ],
      "metadata": {
        "id": "VvSVicTDHVDv"
      },
      "execution_count": 41,
      "outputs": []
    },
    {
      "cell_type": "code",
      "source": [
        "#Plot correlation EUR and selected European forex currencies \n",
        "plt.figure(figsize = (8,8))\n",
        "sns.heatmap(correlation_europe, cbar=True, square=True, fmt='.1f',annot=True, annot_kws={'size':8}, cmap='YlGnBu')"
      ],
      "metadata": {
        "colab": {
          "base_uri": "https://localhost:8080/",
          "height": 487
        },
        "id": "FULnQL9EHokX",
        "outputId": "b3dcab6d-4367-4a14-a343-27aa6a2fdd83"
      },
      "execution_count": 42,
      "outputs": [
        {
          "output_type": "execute_result",
          "data": {
            "text/plain": [
              "<matplotlib.axes._subplots.AxesSubplot at 0x7f88d0982890>"
            ]
          },
          "metadata": {},
          "execution_count": 42
        },
        {
          "output_type": "display_data",
          "data": {
            "text/plain": [
              "<Figure size 576x576 with 2 Axes>"
            ],
            "image/png": "[encoded data removed]"
          },
          "metadata": {
            "needs_background": "light"
          }
        }
      ]
    },
    {
      "cell_type": "code",
      "source": [
        "# correlation values of EUR and other European forex currencies \n",
        "print(correlation_europe['EUR'])"
      ],
      "metadata": {
        "colab": {
          "base_uri": "https://localhost:8080/"
        },
        "id": "wI-9Ch5XH7O4",
        "outputId": "bc4963cb-fdc7-48aa-af91-0b263544d697"
      },
      "execution_count": 43,
      "outputs": [
        {
          "output_type": "stream",
          "name": "stdout",
          "text": [
            "EUR    1.000000\n",
            "CZK    0.918843\n",
            "DKK    0.999940\n",
            "GBP    0.543157\n",
            "HUF    0.778999\n",
            "PLN    0.887382\n",
            "RON    0.567806\n",
            "SEK    0.894268\n",
            "CHF    0.556925\n",
            "NOK    0.853881\n",
            "HRK    0.666186\n",
            "TRY    0.785688\n",
            "Name: EUR, dtype: float64\n"
          ]
        }
      ]
    },
    {
      "cell_type": "code",
      "source": [
        "#defining  variables\n",
        "X_europe = forex_euro_data.drop(['EUR'],axis=1)\n",
        "Y_europe = forex_euro_data['EUR']"
      ],
      "metadata": {
        "id": "K_my0kSkII_v"
      },
      "execution_count": 44,
      "outputs": []
    },
    {
      "cell_type": "code",
      "source": [
        "print(X_europe)"
      ],
      "metadata": {
        "colab": {
          "base_uri": "https://localhost:8080/"
        },
        "id": "beElHyYIIfOP",
        "outputId": "23cc37ef-83c0-48b7-8834-e6daf6069d1e"
      },
      "execution_count": 45,
      "outputs": [
        {
          "output_type": "stream",
          "name": "stdout",
          "text": [
            "           CZK       DKK       GBP       HUF       PLN       RON       SEK  \\\n",
            "0     0.042874  0.142118  1.246994  0.002762  0.228125  0.213776  0.100815   \n",
            "1     0.042611  0.141421  1.242210  0.002728  0.226720  0.212738  0.100145   \n",
            "2     0.042695  0.141402  1.242825  0.002748  0.226579  0.212702  0.100530   \n",
            "3     0.042655  0.141653  1.248934  0.002729  0.226747  0.213044  0.100974   \n",
            "4     0.042177  0.140047  1.225469  0.002701  0.223289  0.210677  0.099278   \n",
            "...        ...       ...       ...       ...       ...       ...       ...   \n",
            "5983  0.033371  0.156638  1.643502  0.004661  0.288854  0.295604  0.127212   \n",
            "5984  0.033343  0.156279  1.647942  0.004651  0.289605  0.295604  0.126710   \n",
            "5985  0.033696  0.157726  1.659553  0.004685  0.293099  0.295604  0.126201   \n",
            "5986  0.033766  0.158266  1.655434  0.004701  0.292956  0.295604  0.125392   \n",
            "5987  0.033580  0.158239  1.657854  0.004688  0.289571  0.295604  0.124493   \n",
            "\n",
            "           CHF       NOK       HRK       TRY  \n",
            "0     1.028891  0.103070  0.140400  0.062883  \n",
            "1     1.025329  0.102083  0.139598  0.062635  \n",
            "2     1.003529  0.103040  0.139655  0.062707  \n",
            "3     1.008033  0.103567  0.140089  0.063490  \n",
            "4     0.994561  0.101988  0.138544  0.063891  \n",
            "...        ...       ...       ...       ...  \n",
            "5983  0.722456  0.135728  0.168340  0.026077  \n",
            "5984  0.719579  0.134793  0.168340  0.026077  \n",
            "5985  0.728655  0.134459  0.168340  0.026077  \n",
            "5986  0.731253  0.134367  0.168340  0.026077  \n",
            "5987  0.729156  0.133134  0.168340  0.026077  \n",
            "\n",
            "[5988 rows x 11 columns]\n"
          ]
        }
      ]
    },
    {
      "cell_type": "code",
      "source": [
        "print(Y_europe)"
      ],
      "metadata": {
        "colab": {
          "base_uri": "https://localhost:8080/"
        },
        "id": "EBLi3PO5IjKn",
        "outputId": "4fab7d0f-b72b-4559-ffda-8b8823d41bd2"
      },
      "execution_count": 46,
      "outputs": [
        {
          "output_type": "stream",
          "name": "stdout",
          "text": [
            "0       1.0577\n",
            "1       1.0525\n",
            "2       1.0523\n",
            "3       1.0541\n",
            "4       1.0422\n",
            "         ...  \n",
            "5983    1.1659\n",
            "5984    1.1632\n",
            "5985    1.1743\n",
            "5986    1.1790\n",
            "5987    1.1789\n",
            "Name: EUR, Length: 5988, dtype: float64\n"
          ]
        }
      ]
    },
    {
      "cell_type": "code",
      "source": [
        "#Split train and testing data sets\n",
        "X_europe_train, X_europe_test, Y_europe_train, Y_europe_test = train_test_split(X_europe, Y_europe, test_size = 0.2, random_state=2)"
      ],
      "metadata": {
        "id": "93IS2yt0IuQ_"
      },
      "execution_count": 47,
      "outputs": []
    },
    {
      "cell_type": "code",
      "source": [
        "#Random forest regressor\n",
        "regressor = RandomForestRegressor(n_estimators=100)"
      ],
      "metadata": {
        "id": "gKC9xX9yI-q0"
      },
      "execution_count": 48,
      "outputs": []
    },
    {
      "cell_type": "code",
      "source": [
        "#training the model using european forex to predict EUR\n",
        "regressor.fit(X_europe_train,Y_europe_train)"
      ],
      "metadata": {
        "colab": {
          "base_uri": "https://localhost:8080/"
        },
        "id": "MElllli9JJNf",
        "outputId": "99c3c7f2-5cf0-4697-b6dd-d1231ddee176"
      },
      "execution_count": 49,
      "outputs": [
        {
          "output_type": "execute_result",
          "data": {
            "text/plain": [
              "RandomForestRegressor()"
            ]
          },
          "metadata": {},
          "execution_count": 49
        }
      ]
    },
    {
      "cell_type": "code",
      "source": [
        "#test prediction using europe forex currencies\n",
        "test_data_prediction_europe = regressor.predict(X_europe_test)"
      ],
      "metadata": {
        "id": "fgE01BMtMEvn"
      },
      "execution_count": 50,
      "outputs": []
    },
    {
      "cell_type": "code",
      "source": [
        "print(test_data_prediction_europe)"
      ],
      "metadata": {
        "colab": {
          "base_uri": "https://localhost:8080/"
        },
        "id": "m21rcXT2M4IM",
        "outputId": "acc8a78a-e53a-4ac2-f515-d02d1cde80a1"
      },
      "execution_count": 51,
      "outputs": [
        {
          "output_type": "stream",
          "name": "stdout",
          "text": [
            "[1.308399 0.97592  1.302342 ... 1.566282 1.362215 1.293416]\n"
          ]
        }
      ]
    },
    {
      "cell_type": "code",
      "source": [
        "#calculate R squared error \n",
        "error_score = metrics.r2_score(Y_europe_test, test_data_prediction_europe)\n",
        "print(\"R squared error : \", error_score)"
      ],
      "metadata": {
        "colab": {
          "base_uri": "https://localhost:8080/"
        },
        "id": "JH71UDwuNB-d",
        "outputId": "5da7cf24-8aa0-4789-b238-514d5be0b796"
      },
      "execution_count": 52,
      "outputs": [
        {
          "output_type": "stream",
          "name": "stdout",
          "text": [
            "R squared error :  0.9999617843657048\n"
          ]
        }
      ]
    },
    {
      "cell_type": "code",
      "source": [
        " #Convert to a list\n",
        "Y_europe_test=list(Y_europe_test)"
      ],
      "metadata": {
        "id": "NR879_59NMbQ"
      },
      "execution_count": 53,
      "outputs": []
    },
    {
      "cell_type": "code",
      "source": [
        "#plotting actual other europe/EUR values\n",
        "plt.plot(Y_europe_test, color='blue', label = 'Actual Value')\n",
        "plt.title('Actual Price Fluctuation in other europe /EUR')\n",
        "plt.xlabel('Number of values')\n",
        "plt.ylabel('EUR')\n",
        "plt.legend()\n",
        "plt.show()"
      ],
      "metadata": {
        "colab": {
          "base_uri": "https://localhost:8080/",
          "height": 295
        },
        "id": "XbYR6NwTNY6u",
        "outputId": "0b151db8-968e-48d9-dd1d-9084e8b4d576"
      },
      "execution_count": 56,
      "outputs": [
        {
          "output_type": "display_data",
          "data": {
            "text/plain": [
              "<Figure size 432x288 with 1 Axes>"
            ],
            "image/png": "[encoded data removed]"
          },
          "metadata": {
            "needs_background": "light"
          }
        }
      ]
    },
    {
      "cell_type": "code",
      "source": [
        "#plotting predicted europe/EUR \n",
        "plt.figure(figsize=(12,8))\n",
        "plt.plot(Y_europe_test, color='blue', label = 'Actual Value')\n",
        "plt.plot(test_data_prediction_europe, color='green', label='Predicted Value')\n",
        "plt.title('Actual value vs Predicted value')\n",
        "plt.xlabel('Number of values')\n",
        "plt.ylabel('EUR')\n",
        "plt.legend()\n",
        "plt.show()"
      ],
      "metadata": {
        "colab": {
          "base_uri": "https://localhost:8080/",
          "height": 513
        },
        "id": "9Sqb5_49N20l",
        "outputId": "980c6a30-06aa-4dfe-c344-3410538d2577"
      },
      "execution_count": 57,
      "outputs": [
        {
          "output_type": "display_data",
          "data": {
            "text/plain": [
              "<Figure size 864x576 with 1 Axes>"
            ],
            "image/png": "[encoded data removed]"
          },
          "metadata": {
            "needs_background": "light"
          }
        }
      ]
    }
  ]
}